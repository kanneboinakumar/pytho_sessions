{
 "cells": [
  {
   "cell_type": "markdown",
   "id": "b970c1f7",
   "metadata": {},
   "source": [
    "# list Comprehension"
   ]
  },
  {
   "cell_type": "markdown",
   "id": "cfaac748",
   "metadata": {},
   "source": [
    "$ syntax $\n",
    "\n",
    "*new_list = [< o/p > < loop > < itarable >]"
   ]
  },
  {
   "cell_type": "code",
   "execution_count": 2,
   "id": "b2fd26b4",
   "metadata": {},
   "outputs": [
    {
     "data": {
      "text/plain": [
       "['p', 'y', 'h', 'o', 'n']"
      ]
     },
     "execution_count": 2,
     "metadata": {},
     "output_type": "execute_result"
    }
   ],
   "source": [
    "new_list=[i for i in 'pyhon']\n",
    "new_list                       # add background"
   ]
  },
  {
   "cell_type": "code",
   "execution_count": 3,
   "id": "03815939",
   "metadata": {},
   "outputs": [
    {
     "data": {
      "text/plain": [
       "[1, 2, 3, 6, 5, 8]"
      ]
     },
     "execution_count": 3,
     "metadata": {},
     "output_type": "execute_result"
    }
   ],
   "source": [
    "old_list=[1,2,3,6,5,8]\n",
    "new_list = [x for x in old_list]\n",
    "new_list"
   ]
  },
  {
   "cell_type": "markdown",
   "id": "9972295d",
   "metadata": {},
   "source": [
    "### If_condition"
   ]
  },
  {
   "cell_type": "markdown",
   "id": "f1b719da",
   "metadata": {},
   "source": [
    "$syntax$\n",
    "- [< if_output> < loop> < if_condition>]"
   ]
  },
  {
   "cell_type": "code",
   "execution_count": 6,
   "id": "9d7cce53",
   "metadata": {},
   "outputs": [
    {
     "data": {
      "text/plain": [
       "[2, 6, 8]"
      ]
     },
     "execution_count": 6,
     "metadata": {},
     "output_type": "execute_result"
    }
   ],
   "source": [
    "# normal way of code\n",
    "old_list=[1,2,3,6,5,8]\n",
    "even_list=[]\n",
    "for i in old_list:\n",
    "    if i%2==0:\n",
    "        even_list.append(i)\n",
    "even_list"
   ]
  },
  {
   "cell_type": "code",
   "execution_count": 5,
   "id": "71a98139",
   "metadata": {},
   "outputs": [
    {
     "data": {
      "text/plain": [
       "[2, 6, 8]"
      ]
     },
     "execution_count": 5,
     "metadata": {},
     "output_type": "execute_result"
    }
   ],
   "source": [
    "#name = [< if_output> < loop> < if_cindition>]\n",
    "old_list=[1,2,3,6,5,8]\n",
    "even_list = [i for i in old_list if i%2==0]\n",
    "even_list"
   ]
  },
  {
   "cell_type": "markdown",
   "id": "1cdfea34",
   "metadata": {},
   "source": [
    "### Using comparison operators (and, in ,or, not)"
   ]
  },
  {
   "cell_type": "code",
   "execution_count": 8,
   "id": "7e2c8d00",
   "metadata": {},
   "outputs": [
    {
     "data": {
      "text/plain": [
       "[4, 5, 6, 7]"
      ]
     },
     "execution_count": 8,
     "metadata": {},
     "output_type": "execute_result"
    }
   ],
   "source": [
    "# and\n",
    "num_list=[0,1,2,3,4,5,6,7,8,9]\n",
    "new_list=[i for i in num_list if i<8 and i>3]\n",
    "new_list"
   ]
  },
  {
   "cell_type": "code",
   "execution_count": 10,
   "id": "1531fc0d",
   "metadata": {},
   "outputs": [
    {
     "data": {
      "text/plain": [
       "[0, 1, 2, 9]"
      ]
     },
     "execution_count": 10,
     "metadata": {},
     "output_type": "execute_result"
    }
   ],
   "source": [
    "# or\n",
    "new_list=[i for i in num_list if i>8 or i<3]\n",
    "new_list"
   ]
  },
  {
   "cell_type": "code",
   "execution_count": 4,
   "id": "04c748e0",
   "metadata": {},
   "outputs": [
    {
     "data": {
      "text/plain": [
       "['#']"
      ]
     },
     "execution_count": 4,
     "metadata": {},
     "output_type": "execute_result"
    }
   ],
   "source": [
    "# in\n",
    "s='python#'\n",
    "list1=[i for i in s if i in '#']\n",
    "list1"
   ]
  },
  {
   "cell_type": "code",
   "execution_count": 3,
   "id": "3895bc3f",
   "metadata": {},
   "outputs": [
    {
     "data": {
      "text/plain": [
       "['p', 'y', 't', 'h', 'o', 'n']"
      ]
     },
     "execution_count": 3,
     "metadata": {},
     "output_type": "execute_result"
    }
   ],
   "source": [
    "# not\n",
    "s='python#'\n",
    "list1=[i for i in s if i not in '#']\n",
    "list1"
   ]
  },
  {
   "cell_type": "markdown",
   "id": "40e60981",
   "metadata": {},
   "source": [
    "### if-else"
   ]
  },
  {
   "cell_type": "markdown",
   "id": "455524c3",
   "metadata": {},
   "source": [
    "$syntax$\n",
    "- [< if_output> < if_condition> else < else_output> < loop>]"
   ]
  },
  {
   "cell_type": "code",
   "execution_count": 20,
   "id": "5db7f737",
   "metadata": {},
   "outputs": [
    {
     "data": {
      "text/plain": [
       "['odd:1', 'even:2', 'odd:3', 'even:4', 'odd:5', 'even:6']"
      ]
     },
     "execution_count": 20,
     "metadata": {},
     "output_type": "execute_result"
    }
   ],
   "source": [
    "#\n",
    "num_list=[1,2,3,4,5,6]\n",
    "new_list=[f'even:{i}' if i%2==0 else f'odd:{i}' for i in num_list]\n",
    "new_list"
   ]
  },
  {
   "cell_type": "code",
   "execution_count": 21,
   "id": "7d5751c0",
   "metadata": {},
   "outputs": [
    {
     "data": {
      "text/plain": [
       "['odd:1', 'even:2', 'odd:3', 'even:4', 'odd:5', 'even:6']"
      ]
     },
     "execution_count": 21,
     "metadata": {},
     "output_type": "execute_result"
    }
   ],
   "source": [
    "# normal way of code\n",
    "num_list=[1,2,3,4,5,6]\n",
    "new_list=[]\n",
    "for i in num_list:\n",
    "    if i%2==0:\n",
    "        new_list.append(f'even:{i}')\n",
    "    else:\n",
    "        new_list.append(f'odd:{i}')\n",
    "new_list"
   ]
  },
  {
   "cell_type": "markdown",
   "id": "167ef553",
   "metadata": {},
   "source": [
    "### Multiple List Comprehension"
   ]
  },
  {
   "cell_type": "code",
   "execution_count": 23,
   "id": "d2296c1e",
   "metadata": {},
   "outputs": [
    {
     "data": {
      "text/plain": [
       "[4, 8, 4, 2, 28, 1, 12, 3, 6, 2]"
      ]
     },
     "execution_count": 23,
     "metadata": {},
     "output_type": "execute_result"
    }
   ],
   "source": [
    "list_of_lists=[['4', '8'], ['4', '2', '28'], ['1', '12'], ['3', '6', '2']]\n",
    "filter_list=[int(i) for sublist in list_of_lists for i in sublist]\n",
    "filter_list"
   ]
  },
  {
   "cell_type": "code",
   "execution_count": 29,
   "id": "77657060",
   "metadata": {},
   "outputs": [
    {
     "data": {
      "text/plain": [
       "[[4, 8], [4, 2, 28], [1, 12], [3, 6, 2]]"
      ]
     },
     "execution_count": 29,
     "metadata": {},
     "output_type": "execute_result"
    }
   ],
   "source": [
    "list_of_lists=[['4', '8'], ['4', '2', '28'], ['1', '12'], ['3', '6', '2']]\n",
    "int_list=[[int(i) for i in sublist] for sublist in list_of_lists ]\n",
    "int_list"
   ]
  },
  {
   "cell_type": "code",
   "execution_count": null,
   "id": "8d245036",
   "metadata": {},
   "outputs": [],
   "source": []
  }
 ],
 "metadata": {
  "kernelspec": {
   "display_name": "Python 3 (ipykernel)",
   "language": "python",
   "name": "python3"
  },
  "language_info": {
   "codemirror_mode": {
    "name": "ipython",
    "version": 3
   },
   "file_extension": ".py",
   "mimetype": "text/x-python",
   "name": "python",
   "nbconvert_exporter": "python",
   "pygments_lexer": "ipython3",
   "version": "3.11.4"
  }
 },
 "nbformat": 4,
 "nbformat_minor": 5
}
