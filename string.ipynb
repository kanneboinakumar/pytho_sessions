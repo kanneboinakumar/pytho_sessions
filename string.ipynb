{
 "cells": [
  {
   "cell_type": "markdown",
   "id": "7b827445",
   "metadata": {},
   "source": [
    "# strings"
   ]
  },
  {
   "cell_type": "markdown",
   "id": "46de6baf",
   "metadata": {},
   "source": [
    "- A string is a sequence of characters.\n",
    "- string represnt in python with\n",
    "    1. single quotes      ----       (' _ ')\n",
    "    2. double quotes      ----       (\" _ \")\n",
    "    3. triple quotes      ----     (\"\"\" _ \"\"\")"
   ]
  },
  {
   "cell_type": "code",
   "execution_count": 1,
   "id": "d9dc5a74",
   "metadata": {},
   "outputs": [],
   "source": [
    "#Example\n",
    "string1='hello'\n",
    "string2=\"python\"\n",
    "string3=\"\"\"welcome to python \"\"\"  "
   ]
  },
  {
   "cell_type": "code",
   "execution_count": null,
   "id": "edecedce",
   "metadata": {},
   "outputs": [],
   "source": [
    "# Single Line string\n",
    "string1='hello'\n",
    "string2=\"python\""
   ]
  },
  {
   "cell_type": "code",
   "execution_count": 39,
   "id": "7b7e0d77",
   "metadata": {},
   "outputs": [],
   "source": [
    "# Multi_Line String\n",
    "address=\"\"\"\n",
    "python\n",
    "pythin world\n",
    "pin:500000\n",
    "\"\"\"\n",
    "# triple quotes is known as doc string"
   ]
  },
  {
   "cell_type": "markdown",
   "id": "e4ce4afa",
   "metadata": {},
   "source": [
    "### 1.string basic funtcions\n",
    "- type\n",
    "- len\n",
    "- max\n",
    "- min"
   ]
  },
  {
   "cell_type": "markdown",
   "id": "7f41f621",
   "metadata": {},
   "source": [
    "####  1.1. type\n",
    "- type() is a keyword used for checking data type "
   ]
  },
  {
   "cell_type": "code",
   "execution_count": 23,
   "id": "d80c574f",
   "metadata": {},
   "outputs": [
    {
     "name": "stdout",
     "output_type": "stream",
     "text": [
      "<class 'str'>\n",
      "<class 'str'>\n",
      "<class 'str'>\n"
     ]
    }
   ],
   "source": [
    "print(type(address))\n",
    "print(type(string1))\n",
    "print(type(string2))"
   ]
  },
  {
   "cell_type": "markdown",
   "id": "40cc69b1",
   "metadata": {},
   "source": [
    "#### 1.2. len\n",
    "- len() is a keyword used for countng the number of character into the given string"
   ]
  },
  {
   "cell_type": "code",
   "execution_count": 50,
   "id": "ab78b081",
   "metadata": {},
   "outputs": [
    {
     "data": {
      "text/plain": [
       "17"
      ]
     },
     "execution_count": 50,
     "metadata": {},
     "output_type": "execute_result"
    }
   ],
   "source": [
    "s='welcome to python'\n",
    "len(s)"
   ]
  },
  {
   "cell_type": "markdown",
   "id": "98099abe",
   "metadata": {},
   "source": [
    "#### Note:\n",
    "- ASCII- American Standard Code for Information Interchange\n",
    "- a character encoding standard for electronic communication.\n",
    "- ASCII values for uppercase letters A-Z is 65-90 and lowercase letters a-z is 97-122.\n",
    "- ord is a keyword is used to find characters ASSCI value\n",
    "- chr is a keyword is used to find the caracter for given ASCII value"
   ]
  },
  {
   "cell_type": "code",
   "execution_count": 56,
   "id": "c5fe14e1",
   "metadata": {},
   "outputs": [
    {
     "data": {
      "text/plain": [
       "'M'"
      ]
     },
     "execution_count": 56,
     "metadata": {},
     "output_type": "execute_result"
    }
   ],
   "source": [
    "chr(77)"
   ]
  },
  {
   "cell_type": "code",
   "execution_count": 55,
   "id": "b66918b6",
   "metadata": {},
   "outputs": [
    {
     "data": {
      "text/plain": [
       "107"
      ]
     },
     "execution_count": 55,
     "metadata": {},
     "output_type": "execute_result"
    }
   ],
   "source": [
    "ord('k')"
   ]
  },
  {
   "cell_type": "markdown",
   "id": "6a3078c3",
   "metadata": {},
   "source": [
    "#### 1.3. max"
   ]
  },
  {
   "cell_type": "code",
   "execution_count": 51,
   "id": "997b9361",
   "metadata": {},
   "outputs": [
    {
     "data": {
      "text/plain": [
       "'y'"
      ]
     },
     "execution_count": 51,
     "metadata": {},
     "output_type": "execute_result"
    }
   ],
   "source": [
    "s='welcome to python'\n",
    "max(s)"
   ]
  },
  {
   "cell_type": "markdown",
   "id": "998260cd",
   "metadata": {},
   "source": [
    "#### 1.4. min"
   ]
  },
  {
   "cell_type": "code",
   "execution_count": 53,
   "id": "2cb9f009",
   "metadata": {},
   "outputs": [
    {
     "data": {
      "text/plain": [
       "'h'"
      ]
     },
     "execution_count": 53,
     "metadata": {},
     "output_type": "execute_result"
    }
   ],
   "source": [
    "s='python'\n",
    "min(s)"
   ]
  },
  {
   "cell_type": "markdown",
   "id": "0d241202",
   "metadata": {},
   "source": [
    "### 2. Operations on string\n",
    "1. indexing\n",
    "2. slicing"
   ]
  },
  {
   "cell_type": "markdown",
   "id": "e5091aa6",
   "metadata": {},
   "source": [
    "#### 2.1. indexing \n",
    "- The Process of Obtaining Single Character from given str object by passing valid Index is called Indexing."
   ]
  },
  {
   "cell_type": "code",
   "execution_count": null,
   "id": "f826388c",
   "metadata": {},
   "outputs": [],
   "source": [
    "#            <<----------- (-ve) index\n",
    "#       -6 -5 -4 -3 -2 -1   \n",
    "string=' p  y  t  h  o  n '\n",
    "#        0  1  2  3  4  5   \n",
    "#            ------------->> +ve index"
   ]
  },
  {
   "cell_type": "markdown",
   "id": "e87a357b",
   "metadata": {},
   "source": [
    "- string[0] = 'p' = string[-6]\n",
    "- string[1] = 'y' =string[-5]\n",
    "- string[2] = 't' = string[-4]\n",
    "- string[3] = 'h' = string[-3]\n",
    "- string[4] = 'o' = string[-2]\n",
    "- string[5] = 'n' = string[-1]"
   ]
  },
  {
   "cell_type": "code",
   "execution_count": 49,
   "id": "7f03fbd2",
   "metadata": {},
   "outputs": [
    {
     "ename": "IndexError",
     "evalue": "string index out of range",
     "output_type": "error",
     "traceback": [
      "\u001b[1;31m---------------------------------------------------------------------------\u001b[0m",
      "\u001b[1;31mIndexError\u001b[0m                                Traceback (most recent call last)",
      "Cell \u001b[1;32mIn[49], line 2\u001b[0m\n\u001b[0;32m      1\u001b[0m string\u001b[38;5;241m=\u001b[39m\u001b[38;5;124m'\u001b[39m\u001b[38;5;124mpython\u001b[39m\u001b[38;5;124m'\u001b[39m\n\u001b[1;32m----> 2\u001b[0m string[\u001b[38;5;241m30\u001b[39m]\n",
      "\u001b[1;31mIndexError\u001b[0m: string index out of range"
     ]
    }
   ],
   "source": [
    "# index error\n",
    "string='python'\n",
    "string[30]"
   ]
  },
  {
   "cell_type": "markdown",
   "id": "0b72cb7f",
   "metadata": {},
   "source": [
    "#### 2.2. slicing \n",
    "- The Process of obtaining Range of Characters or Sub String from given Str object is called Slicing ."
   ]
  },
  {
   "cell_type": "code",
   "execution_count": 54,
   "id": "02b265d0",
   "metadata": {},
   "outputs": [],
   "source": [
    "s='python'"
   ]
  },
  {
   "cell_type": "code",
   "execution_count": null,
   "id": "601f63fb",
   "metadata": {},
   "outputs": [],
   "source": [
    "#       -6 -5 -4 -3 -2 -1   -ve index\n",
    "s=' p  y  t  h  o  n '\n",
    "#        0  1  2  3  4  5   +ve index"
   ]
  },
  {
   "cell_type": "markdown",
   "id": "623dbf4a",
   "metadata": {},
   "source": [
    "- #### Syntax-1: \n",
    "    - Strobj[ < start Index > : < stop Index >]"
   ]
  },
  {
   "cell_type": "code",
   "execution_count": 53,
   "id": "f018441a",
   "metadata": {},
   "outputs": [
    {
     "data": {
      "text/plain": [
       "'yth'"
      ]
     },
     "execution_count": 53,
     "metadata": {},
     "output_type": "execute_result"
    }
   ],
   "source": [
    "# example\n",
    "s[1:4]"
   ]
  },
  {
   "cell_type": "code",
   "execution_count": 55,
   "id": "34877aeb",
   "metadata": {},
   "outputs": [
    {
     "data": {
      "text/plain": [
       "'py'"
      ]
     },
     "execution_count": 55,
     "metadata": {},
     "output_type": "execute_result"
    }
   ],
   "source": [
    "s[-6:-4]"
   ]
  },
  {
   "cell_type": "markdown",
   "id": "6a8542e8",
   "metadata": {},
   "source": [
    "- #### Syntax-2: \n",
    "    - StrObj[< start Index >: ]"
   ]
  },
  {
   "cell_type": "code",
   "execution_count": 56,
   "id": "e7708901",
   "metadata": {},
   "outputs": [
    {
     "data": {
      "text/plain": [
       "'thon'"
      ]
     },
     "execution_count": 56,
     "metadata": {},
     "output_type": "execute_result"
    }
   ],
   "source": [
    "s='python'\n",
    "s[2:]"
   ]
  },
  {
   "cell_type": "code",
   "execution_count": 57,
   "id": "cad249c5",
   "metadata": {},
   "outputs": [
    {
     "data": {
      "text/plain": [
       "'world'"
      ]
     },
     "execution_count": 57,
     "metadata": {},
     "output_type": "execute_result"
    }
   ],
   "source": [
    "s='hello world'\n",
    "s[6:]"
   ]
  },
  {
   "cell_type": "markdown",
   "id": "9123fa3d",
   "metadata": {},
   "source": [
    "- #### Syntax-3: \n",
    "    - StrObj[ :< stop Index >]"
   ]
  },
  {
   "cell_type": "code",
   "execution_count": 60,
   "id": "65cda551",
   "metadata": {},
   "outputs": [
    {
     "data": {
      "text/plain": [
       "'pyt'"
      ]
     },
     "execution_count": 60,
     "metadata": {},
     "output_type": "execute_result"
    }
   ],
   "source": [
    "s='python'\n",
    "s[:3]"
   ]
  },
  {
   "cell_type": "code",
   "execution_count": 62,
   "id": "a1503b54",
   "metadata": {},
   "outputs": [
    {
     "data": {
      "text/plain": [
       "'hell'"
      ]
     },
     "execution_count": 62,
     "metadata": {},
     "output_type": "execute_result"
    }
   ],
   "source": [
    "s='hello world'\n",
    "s[:4]"
   ]
  },
  {
   "cell_type": "markdown",
   "id": "8c66eceb",
   "metadata": {},
   "source": [
    "- #### Syntax-4: \n",
    "    - StrObj[ : ]"
   ]
  },
  {
   "cell_type": "code",
   "execution_count": 63,
   "id": "2fccef1f",
   "metadata": {},
   "outputs": [
    {
     "data": {
      "text/plain": [
       "'hello world'"
      ]
     },
     "execution_count": 63,
     "metadata": {},
     "output_type": "execute_result"
    }
   ],
   "source": [
    "s='hello world'\n",
    "s[:]"
   ]
  },
  {
   "cell_type": "markdown",
   "id": "410f5d2c",
   "metadata": {},
   "source": [
    "- #### Syntax-5:\n",
    "    - Strobj[< start >:< stop >:< Step >]"
   ]
  },
  {
   "cell_type": "markdown",
   "id": "5b3a0e3d",
   "metadata": {},
   "source": [
    "Rules:\n",
    "1) Here BeginIndex , End Index and Step can either +VE INDEX and -VE INDEX\n",
    "2) If the value of STEP is +VE then PVM takes the Range of Characters from Begin Index to End Index-1 in Forward Direction provided Begin Index<End Index otherwise we get empty String(' ' )\n",
    "3) if the value of STEP is -VE then PVM Takes Range of Characters from BeginIndex to End\n",
    "Index+1 in Backward Direction provided Begin Index > End Index\n",
    "4) When we are retrieving the data in forward Direction if the EndIndex Value is 0 then we never get any result / outout, we get empty String(' ' )\n",
    "5) When we are retrieving the data in backward Direction if the EndIndex Value is -1 then we never get any result / outout, we get empty String(' ' )"
   ]
  },
  {
   "cell_type": "code",
   "execution_count": 49,
   "id": "7b2059ca",
   "metadata": {},
   "outputs": [
    {
     "data": {
      "text/plain": [
       "'PYTHON'"
      ]
     },
     "execution_count": 49,
     "metadata": {},
     "output_type": "execute_result"
    }
   ],
   "source": [
    "#Example:\n",
    "s='PYTHON'\n",
    "s[0:6:1]"
   ]
  },
  {
   "cell_type": "code",
   "execution_count": 43,
   "id": "61d81cab",
   "metadata": {},
   "outputs": [
    {
     "data": {
      "text/plain": [
       "'PTO'"
      ]
     },
     "execution_count": 43,
     "metadata": {},
     "output_type": "execute_result"
    }
   ],
   "source": [
    "s[0:6:2]"
   ]
  },
  {
   "cell_type": "code",
   "execution_count": 44,
   "id": "e1f1eaec",
   "metadata": {},
   "outputs": [
    {
     "data": {
      "text/plain": [
       "'TH'"
      ]
     },
     "execution_count": 44,
     "metadata": {},
     "output_type": "execute_result"
    }
   ],
   "source": [
    "s[2:4:1]"
   ]
  },
  {
   "cell_type": "code",
   "execution_count": 45,
   "id": "256ff99d",
   "metadata": {},
   "outputs": [
    {
     "data": {
      "text/plain": [
       "'PYTHON'"
      ]
     },
     "execution_count": 45,
     "metadata": {},
     "output_type": "execute_result"
    }
   ],
   "source": [
    "s[-6: :1]"
   ]
  },
  {
   "cell_type": "code",
   "execution_count": 46,
   "id": "37b23f94",
   "metadata": {},
   "outputs": [
    {
     "data": {
      "text/plain": [
       "'PYTHON'"
      ]
     },
     "execution_count": 46,
     "metadata": {},
     "output_type": "execute_result"
    }
   ],
   "source": [
    "s[:6:1]"
   ]
  },
  {
   "cell_type": "code",
   "execution_count": 47,
   "id": "466fdc0e",
   "metadata": {},
   "outputs": [
    {
     "data": {
      "text/plain": [
       "'PT'"
      ]
     },
     "execution_count": 47,
     "metadata": {},
     "output_type": "execute_result"
    }
   ],
   "source": [
    "s[:-2:2]"
   ]
  },
  {
   "cell_type": "code",
   "execution_count": 48,
   "id": "634b6130",
   "metadata": {},
   "outputs": [
    {
     "data": {
      "text/plain": [
       "''"
      ]
     },
     "execution_count": 48,
     "metadata": {},
     "output_type": "execute_result"
    }
   ],
   "source": [
    "s[0:6:-2]  # it will give empty string, no error"
   ]
  },
  {
   "cell_type": "markdown",
   "id": "ae209b23",
   "metadata": {},
   "source": [
    "### 3.Strings are immutable\n",
    "- An object is immutable when its state doesn't change after it has been initialized."
   ]
  },
  {
   "cell_type": "code",
   "execution_count": 67,
   "id": "683f9d57",
   "metadata": {},
   "outputs": [
    {
     "ename": "TypeError",
     "evalue": "'str' object does not support item assignment",
     "output_type": "error",
     "traceback": [
      "\u001b[1;31m---------------------------------------------------------------------------\u001b[0m",
      "\u001b[1;31mTypeError\u001b[0m                                 Traceback (most recent call last)",
      "Cell \u001b[1;32mIn[67], line 3\u001b[0m\n\u001b[0;32m      1\u001b[0m \u001b[38;5;66;03m# example\u001b[39;00m\n\u001b[0;32m      2\u001b[0m string\u001b[38;5;241m=\u001b[39m\u001b[38;5;124m'\u001b[39m\u001b[38;5;124mpython\u001b[39m\u001b[38;5;124m'\u001b[39m\n\u001b[1;32m----> 3\u001b[0m string[\u001b[38;5;241m0\u001b[39m]\u001b[38;5;241m=\u001b[39m\u001b[38;5;124m'\u001b[39m\u001b[38;5;124mk\u001b[39m\u001b[38;5;124m'\u001b[39m\n",
      "\u001b[1;31mTypeError\u001b[0m: 'str' object does not support item assignment"
     ]
    }
   ],
   "source": [
    "# Example\n",
    "string='python'\n",
    "string[0]='k' \n",
    "                  # TypeError: 'str' object does not support item assignment\n",
    "                  # so that the strings are immutable"
   ]
  },
  {
   "cell_type": "markdown",
   "id": "0a4e1d82",
   "metadata": {},
   "source": [
    "### 4.Looping and counting"
   ]
  },
  {
   "cell_type": "code",
   "execution_count": 69,
   "id": "2c3477b2",
   "metadata": {},
   "outputs": [
    {
     "name": "stdout",
     "output_type": "stream",
     "text": [
      "p\n",
      "y\n",
      "t\n",
      "h\n",
      "o\n",
      "n\n"
     ]
    }
   ],
   "source": [
    "# looping\n",
    "s='python'\n",
    "for i in s:\n",
    "    print(i)            # it will looping by the characters of given string "
   ]
  },
  {
   "cell_type": "code",
   "execution_count": 73,
   "id": "ae8d37c3",
   "metadata": {},
   "outputs": [
    {
     "data": {
      "text/plain": [
       "3"
      ]
     },
     "execution_count": 73,
     "metadata": {},
     "output_type": "execute_result"
    }
   ],
   "source": [
    "# counting\n",
    "s='welcome to python'\n",
    "o_count=0\n",
    "for i in s:\n",
    "    if i=='o':\n",
    "        o_count+=1\n",
    "o_count"
   ]
  },
  {
   "cell_type": "markdown",
   "id": "5d6fea46",
   "metadata": {},
   "source": [
    "### 5.In operator\n",
    "- The word $in$ is a boolean operator"
   ]
  },
  {
   "cell_type": "code",
   "execution_count": 77,
   "id": "228cb890",
   "metadata": {},
   "outputs": [
    {
     "data": {
      "text/plain": [
       "True"
      ]
     },
     "execution_count": 77,
     "metadata": {},
     "output_type": "execute_result"
    }
   ],
   "source": [
    "# ex \n",
    "s='python'\n",
    "'p' in s"
   ]
  },
  {
   "cell_type": "code",
   "execution_count": 78,
   "id": "3d885de7",
   "metadata": {},
   "outputs": [
    {
     "data": {
      "text/plain": [
       "False"
      ]
     },
     "execution_count": 78,
     "metadata": {},
     "output_type": "execute_result"
    }
   ],
   "source": [
    "# ex\n",
    "s='python'\n",
    "'a' in s"
   ]
  },
  {
   "cell_type": "markdown",
   "id": "3d67c109",
   "metadata": {},
   "source": [
    "### 6.mathematical operations in string\n",
    "- addition\n",
    "- multiplicion\n",
    "- subtraction\n",
    "- division"
   ]
  },
  {
   "cell_type": "markdown",
   "id": "b7235114",
   "metadata": {},
   "source": [
    "#### 6.1. Addition (concatination)"
   ]
  },
  {
   "cell_type": "code",
   "execution_count": 81,
   "id": "d4e2b38d",
   "metadata": {},
   "outputs": [
    {
     "data": {
      "text/plain": [
       "'hello welcome to python'"
      ]
     },
     "execution_count": 81,
     "metadata": {},
     "output_type": "execute_result"
    }
   ],
   "source": [
    "# Adding two strings\n",
    "s1='hello '\n",
    "s2='welcome to python'\n",
    "s1+s2"
   ]
  },
  {
   "cell_type": "markdown",
   "id": "0ac03134",
   "metadata": {},
   "source": [
    "#### 6.2. multiplicion\n",
    "- string multiplicition is possible with int only otherwise it give $TypeError$"
   ]
  },
  {
   "cell_type": "code",
   "execution_count": 83,
   "id": "6e784b00",
   "metadata": {},
   "outputs": [
    {
     "data": {
      "text/plain": [
       "'pythonpythonpythonpython'"
      ]
     },
     "execution_count": 83,
     "metadata": {},
     "output_type": "execute_result"
    }
   ],
   "source": [
    "# ex\n",
    "s='python'\n",
    "num=4\n",
    "s*num"
   ]
  },
  {
   "cell_type": "code",
   "execution_count": 84,
   "id": "18bd1047",
   "metadata": {},
   "outputs": [
    {
     "ename": "TypeError",
     "evalue": "can't multiply sequence by non-int of type 'str'",
     "output_type": "error",
     "traceback": [
      "\u001b[1;31m---------------------------------------------------------------------------\u001b[0m",
      "\u001b[1;31mTypeError\u001b[0m                                 Traceback (most recent call last)",
      "Cell \u001b[1;32mIn[84], line 3\u001b[0m\n\u001b[0;32m      1\u001b[0m s1\u001b[38;5;241m=\u001b[39m\u001b[38;5;124m'\u001b[39m\u001b[38;5;124mhello \u001b[39m\u001b[38;5;124m'\u001b[39m\n\u001b[0;32m      2\u001b[0m s2\u001b[38;5;241m=\u001b[39m\u001b[38;5;124m'\u001b[39m\u001b[38;5;124mwelcome to python\u001b[39m\u001b[38;5;124m'\u001b[39m\n\u001b[1;32m----> 3\u001b[0m s1\u001b[38;5;241m*\u001b[39ms2\n",
      "\u001b[1;31mTypeError\u001b[0m: can't multiply sequence by non-int of type 'str'"
     ]
    }
   ],
   "source": [
    "s1='hello '\n",
    "s2='welcome to python'\n",
    "s1*s2"
   ]
  },
  {
   "cell_type": "markdown",
   "id": "4aa326f1",
   "metadata": {},
   "source": [
    "#### 6.3. subtraction\n",
    "- subtraction is not possible in strings\n",
    "- it give $TypeError$"
   ]
  },
  {
   "cell_type": "code",
   "execution_count": 85,
   "id": "e9dfeb2c",
   "metadata": {},
   "outputs": [
    {
     "ename": "TypeError",
     "evalue": "unsupported operand type(s) for -: 'str' and 'str'",
     "output_type": "error",
     "traceback": [
      "\u001b[1;31m---------------------------------------------------------------------------\u001b[0m",
      "\u001b[1;31mTypeError\u001b[0m                                 Traceback (most recent call last)",
      "Cell \u001b[1;32mIn[85], line 3\u001b[0m\n\u001b[0;32m      1\u001b[0m s1\u001b[38;5;241m=\u001b[39m\u001b[38;5;124m'\u001b[39m\u001b[38;5;124mhello \u001b[39m\u001b[38;5;124m'\u001b[39m\n\u001b[0;32m      2\u001b[0m s2\u001b[38;5;241m=\u001b[39m\u001b[38;5;124m'\u001b[39m\u001b[38;5;124mwelcome to python\u001b[39m\u001b[38;5;124m'\u001b[39m\n\u001b[1;32m----> 3\u001b[0m s1\u001b[38;5;241m-\u001b[39ms2\n",
      "\u001b[1;31mTypeError\u001b[0m: unsupported operand type(s) for -: 'str' and 'str'"
     ]
    }
   ],
   "source": [
    "s1='hello '\n",
    "s2='welcome to python'\n",
    "s1-s2"
   ]
  },
  {
   "cell_type": "markdown",
   "id": "e7746a99",
   "metadata": {},
   "source": [
    "#### 6.4. division\n",
    "- division is not possible in strings\n",
    "- it give $TypeError$"
   ]
  },
  {
   "cell_type": "code",
   "execution_count": 87,
   "id": "75bbb5a3",
   "metadata": {},
   "outputs": [
    {
     "ename": "TypeError",
     "evalue": "unsupported operand type(s) for /: 'str' and 'str'",
     "output_type": "error",
     "traceback": [
      "\u001b[1;31m---------------------------------------------------------------------------\u001b[0m",
      "\u001b[1;31mTypeError\u001b[0m                                 Traceback (most recent call last)",
      "Cell \u001b[1;32mIn[87], line 3\u001b[0m\n\u001b[0;32m      1\u001b[0m s1\u001b[38;5;241m=\u001b[39m\u001b[38;5;124m'\u001b[39m\u001b[38;5;124mhello \u001b[39m\u001b[38;5;124m'\u001b[39m\n\u001b[0;32m      2\u001b[0m s2\u001b[38;5;241m=\u001b[39m\u001b[38;5;124m'\u001b[39m\u001b[38;5;124mwelcome to python\u001b[39m\u001b[38;5;124m'\u001b[39m\n\u001b[1;32m----> 3\u001b[0m s1\u001b[38;5;241m/\u001b[39ms2\n",
      "\u001b[1;31mTypeError\u001b[0m: unsupported operand type(s) for /: 'str' and 'str'"
     ]
    }
   ],
   "source": [
    "s1='hello '\n",
    "s2='welcome to python'\n",
    "s1/s2"
   ]
  },
  {
   "cell_type": "markdown",
   "id": "53c92a14",
   "metadata": {},
   "source": [
    "### 7.string methods\n",
    "- Python has a set of built-in methods that you can use on strings.\n",
    "- All string methods returns new values. They do not change the original string.\n",
    "    - capitalize() / upper() / lower() / casefold()\n",
    "    - index() / find() / rindex() / rfind()\n",
    "    - count()\n",
    "    - replace()\n",
    "    - startswith() / endswith()\n",
    "    - strip() / lstrip() / rstrip()\n",
    "    - split() / join()\n",
    "    - center() / rjust() / ljust()"
   ]
  },
  {
   "cell_type": "markdown",
   "id": "2438356a",
   "metadata": {},
   "source": [
    "#### 7.1.capitalize()\n",
    "- Return a capitalized version of string. (make the first character have upper case and the rest lower case.)"
   ]
  },
  {
   "cell_type": "code",
   "execution_count": null,
   "id": "0139dcf7",
   "metadata": {},
   "outputs": [],
   "source": [
    "# with out methods\n",
    "s='python'\n",
    "s1=''"
   ]
  },
  {
   "cell_type": "code",
   "execution_count": 105,
   "id": "c7bc458f",
   "metadata": {},
   "outputs": [
    {
     "data": {
      "text/plain": [
       "'Python'"
      ]
     },
     "execution_count": 105,
     "metadata": {},
     "output_type": "execute_result"
    }
   ],
   "source": [
    "#ex\n",
    "s='python'\n",
    "s.capitalize()     # The first character is have upper"
   ]
  },
  {
   "cell_type": "code",
   "execution_count": 107,
   "id": "79e9f6ad",
   "metadata": {},
   "outputs": [
    {
     "data": {
      "text/plain": [
       "'Hello'"
      ]
     },
     "execution_count": 107,
     "metadata": {},
     "output_type": "execute_result"
    }
   ],
   "source": [
    "s='HELLO'\n",
    "s.capitalize()     "
   ]
  },
  {
   "cell_type": "markdown",
   "id": "bd462f41",
   "metadata": {},
   "source": [
    "#### 7.2.upper()\n",
    "- Return a upper version of string.(make all the characters have upper case only.)"
   ]
  },
  {
   "cell_type": "code",
   "execution_count": 109,
   "id": "90a0f7c7",
   "metadata": {},
   "outputs": [
    {
     "data": {
      "text/plain": [
       "'PYTHON'"
      ]
     },
     "execution_count": 109,
     "metadata": {},
     "output_type": "execute_result"
    }
   ],
   "source": [
    "#ex\n",
    "s='python'\n",
    "s.upper()"
   ]
  },
  {
   "cell_type": "code",
   "execution_count": 110,
   "id": "0b857cc4",
   "metadata": {},
   "outputs": [
    {
     "data": {
      "text/plain": [
       "'HAI HOW ARE YOU'"
      ]
     },
     "execution_count": 110,
     "metadata": {},
     "output_type": "execute_result"
    }
   ],
   "source": [
    "s='hai how are you'\n",
    "s.upper()"
   ]
  },
  {
   "cell_type": "markdown",
   "id": "b67119b3",
   "metadata": {},
   "source": [
    "#### 7.3.lower()\n",
    "- Return a lower version of string.(make all the characters have lower case only.)"
   ]
  },
  {
   "cell_type": "code",
   "execution_count": 112,
   "id": "278d7df9",
   "metadata": {},
   "outputs": [
    {
     "data": {
      "text/plain": [
       "'python'"
      ]
     },
     "execution_count": 112,
     "metadata": {},
     "output_type": "execute_result"
    }
   ],
   "source": [
    "s='PYTHON'\n",
    "s.lower()"
   ]
  },
  {
   "cell_type": "code",
   "execution_count": 113,
   "id": "140711fa",
   "metadata": {},
   "outputs": [
    {
     "data": {
      "text/plain": [
       "'python'"
      ]
     },
     "execution_count": 113,
     "metadata": {},
     "output_type": "execute_result"
    }
   ],
   "source": [
    "s='PyThON'\n",
    "s.lower()"
   ]
  },
  {
   "cell_type": "markdown",
   "id": "68553547",
   "metadata": {},
   "source": [
    "#### 7.4.casefold()\n",
    "- Return a lower version of string.(make all the characters have lower case only.)"
   ]
  },
  {
   "cell_type": "code",
   "execution_count": 119,
   "id": "d52f480f",
   "metadata": {},
   "outputs": [
    {
     "data": {
      "text/plain": [
       "'python$'"
      ]
     },
     "execution_count": 119,
     "metadata": {},
     "output_type": "execute_result"
    }
   ],
   "source": [
    "s='PYTHON'\n",
    "s.casefold()"
   ]
  },
  {
   "cell_type": "code",
   "execution_count": 115,
   "id": "0574896a",
   "metadata": {},
   "outputs": [
    {
     "data": {
      "text/plain": [
       "'hello how are you'"
      ]
     },
     "execution_count": 115,
     "metadata": {},
     "output_type": "execute_result"
    }
   ],
   "source": [
    "s='hello how are you'\n",
    "s.casefold()"
   ]
  },
  {
   "cell_type": "markdown",
   "id": "78f500c5",
   "metadata": {},
   "source": [
    "#### lower() vs casefold()\n",
    "- lower() can converts only ASCII(American Standard Code for Information Interchange) characters to lowercase.\n",
    "- casefold() can converts both ASCII and non-ASCII/UNICODE characters to lowercase. "
   ]
  },
  {
   "cell_type": "code",
   "execution_count": 124,
   "id": "93a5698e",
   "metadata": {},
   "outputs": [
    {
     "data": {
      "text/plain": [
       "'ß'"
      ]
     },
     "execution_count": 124,
     "metadata": {},
     "output_type": "execute_result"
    }
   ],
   "source": [
    "a='ß'  # ß is the unicode character\n",
    "a.lower()"
   ]
  },
  {
   "cell_type": "code",
   "execution_count": 123,
   "id": "b77dfb80",
   "metadata": {},
   "outputs": [
    {
     "data": {
      "text/plain": [
       "'ss'"
      ]
     },
     "execution_count": 123,
     "metadata": {},
     "output_type": "execute_result"
    }
   ],
   "source": [
    "a.casefold()"
   ]
  },
  {
   "cell_type": "markdown",
   "id": "702f5021",
   "metadata": {},
   "source": [
    "#### 7.5.index()\n",
    "- Searches the string for a specified value and returns the position of where it was found\n",
    "- It return the lowest index only\n",
    "- If the searching string characters are not fount it give $ValueError$ \n",
    "- syntax\n",
    "    - strobj.index(sub_str,< start from(int only)>)"
   ]
  },
  {
   "cell_type": "code",
   "execution_count": 64,
   "id": "953af47b",
   "metadata": {},
   "outputs": [
    {
     "data": {
      "text/plain": [
       "4"
      ]
     },
     "execution_count": 64,
     "metadata": {},
     "output_type": "execute_result"
    }
   ],
   "source": [
    "# without methods finding index\n",
    "s='hello how are you'\n",
    "for i in range(len(s)):\n",
    "    if s[i]=='o':\n",
    "        index=i\n",
    "        break\n",
    "index"
   ]
  },
  {
   "cell_type": "code",
   "execution_count": 128,
   "id": "4117d692",
   "metadata": {},
   "outputs": [
    {
     "data": {
      "text/plain": [
       "4"
      ]
     },
     "execution_count": 128,
     "metadata": {},
     "output_type": "execute_result"
    }
   ],
   "source": [
    "s='hello how are you' # first occurence\n",
    "s.index('o')"
   ]
  },
  {
   "cell_type": "code",
   "execution_count": 131,
   "id": "cc93efdf",
   "metadata": {},
   "outputs": [
    {
     "data": {
      "text/plain": [
       "7"
      ]
     },
     "execution_count": 131,
     "metadata": {},
     "output_type": "execute_result"
    }
   ],
   "source": [
    "s.index('o',s.index('o')+1)   # second occurence"
   ]
  },
  {
   "cell_type": "code",
   "execution_count": 132,
   "id": "465cf504",
   "metadata": {},
   "outputs": [
    {
     "ename": "ValueError",
     "evalue": "substring not found",
     "output_type": "error",
     "traceback": [
      "\u001b[1;31m---------------------------------------------------------------------------\u001b[0m",
      "\u001b[1;31mValueError\u001b[0m                                Traceback (most recent call last)",
      "Cell \u001b[1;32mIn[132], line 1\u001b[0m\n\u001b[1;32m----> 1\u001b[0m s\u001b[38;5;241m.\u001b[39mindex(\u001b[38;5;124m'\u001b[39m\u001b[38;5;124mp\u001b[39m\u001b[38;5;124m'\u001b[39m)\n",
      "\u001b[1;31mValueError\u001b[0m: substring not found"
     ]
    }
   ],
   "source": [
    "s.index('p')"
   ]
  },
  {
   "cell_type": "markdown",
   "id": "d8e56283",
   "metadata": {},
   "source": [
    "#### 7.6.find()\n",
    "- Searches the string for a specified value and returns the position of where it was found\n",
    "- it return the lowest index only\n",
    "- If the searching string characters are not fount it return $-1$ and not give error\n",
    "- syntax\n",
    "    - strobj.index(sub_str,< start from(int only)>)"
   ]
  },
  {
   "cell_type": "code",
   "execution_count": 133,
   "id": "2c8052a4",
   "metadata": {},
   "outputs": [
    {
     "data": {
      "text/plain": [
       "4"
      ]
     },
     "execution_count": 133,
     "metadata": {},
     "output_type": "execute_result"
    }
   ],
   "source": [
    "s='hello how are you' # first occurence\n",
    "s.find('o')"
   ]
  },
  {
   "cell_type": "code",
   "execution_count": 134,
   "id": "83666500",
   "metadata": {},
   "outputs": [
    {
     "data": {
      "text/plain": [
       "7"
      ]
     },
     "execution_count": 134,
     "metadata": {},
     "output_type": "execute_result"
    }
   ],
   "source": [
    "s.find('o',s.index('o')+1)   # second occurence"
   ]
  },
  {
   "cell_type": "code",
   "execution_count": 135,
   "id": "7a3e6758",
   "metadata": {},
   "outputs": [
    {
     "data": {
      "text/plain": [
       "-1"
      ]
     },
     "execution_count": 135,
     "metadata": {},
     "output_type": "execute_result"
    }
   ],
   "source": [
    "s.find('p')"
   ]
  },
  {
   "cell_type": "markdown",
   "id": "81871c6c",
   "metadata": {},
   "source": [
    "#### index vs find\n",
    "- Both are used for finding the sub_string in the main string\n",
    "- index if the sub_string not find in the main strng it give $ValueError$\n",
    "- find if the sub_string not find in the main strng it return -1 "
   ]
  },
  {
   "cell_type": "code",
   "execution_count": 1,
   "id": "52471d94",
   "metadata": {},
   "outputs": [
    {
     "ename": "ValueError",
     "evalue": "substring not found",
     "output_type": "error",
     "traceback": [
      "\u001b[1;31m---------------------------------------------------------------------------\u001b[0m",
      "\u001b[1;31mValueError\u001b[0m                                Traceback (most recent call last)",
      "Cell \u001b[1;32mIn[1], line 2\u001b[0m\n\u001b[0;32m      1\u001b[0m main_string\u001b[38;5;241m=\u001b[39m\u001b[38;5;124m'\u001b[39m\u001b[38;5;124mpython world\u001b[39m\u001b[38;5;124m'\u001b[39m\n\u001b[1;32m----> 2\u001b[0m main_string\u001b[38;5;241m.\u001b[39mindex(\u001b[38;5;124m'\u001b[39m\u001b[38;5;124mk\u001b[39m\u001b[38;5;124m'\u001b[39m)\n",
      "\u001b[1;31mValueError\u001b[0m: substring not found"
     ]
    }
   ],
   "source": [
    "main_string='python world'\n",
    "main_string.index('k')"
   ]
  },
  {
   "cell_type": "code",
   "execution_count": 6,
   "id": "3bbddc6a",
   "metadata": {},
   "outputs": [
    {
     "data": {
      "text/plain": [
       "-1"
      ]
     },
     "execution_count": 6,
     "metadata": {},
     "output_type": "execute_result"
    }
   ],
   "source": [
    "main_string.find('k')"
   ]
  },
  {
   "cell_type": "markdown",
   "id": "ab100398",
   "metadata": {},
   "source": [
    "#### 7.7. rfind()\n",
    "- Searches the string for a specified value and returns the last position of where it was found"
   ]
  },
  {
   "cell_type": "code",
   "execution_count": 14,
   "id": "ab7e1c0e",
   "metadata": {},
   "outputs": [
    {
     "data": {
      "text/plain": [
       "15"
      ]
     },
     "execution_count": 14,
     "metadata": {},
     "output_type": "execute_result"
    }
   ],
   "source": [
    "s='hello how are you'\n",
    "s.rfind('o')"
   ]
  },
  {
   "cell_type": "markdown",
   "id": "e8bc0566",
   "metadata": {},
   "source": [
    "#### 7.8. rindex()\n",
    "- Searches the string for a specified value and returns the last position of where it was found"
   ]
  },
  {
   "cell_type": "code",
   "execution_count": 15,
   "id": "4487229a",
   "metadata": {},
   "outputs": [
    {
     "data": {
      "text/plain": [
       "4"
      ]
     },
     "execution_count": 15,
     "metadata": {},
     "output_type": "execute_result"
    }
   ],
   "source": [
    "s='hello how are you'\n",
    "s.index('o')"
   ]
  },
  {
   "cell_type": "markdown",
   "id": "e92d5f39",
   "metadata": {},
   "source": [
    "#### 7.9.replace()\n",
    "- Returns a string where a specified value is replaced with a specified value\n",
    "- syntax\n",
    "    - strobj.replace(< old>,< new >,< count=-1 >)\n",
    "- by default count=-1 that means replace all the occurances\n",
    "- if we mention the count that count value of occurances shuld be replaced "
   ]
  },
  {
   "cell_type": "code",
   "execution_count": 67,
   "id": "1e3818c6",
   "metadata": {},
   "outputs": [
    {
     "data": {
      "text/plain": [
       "'welceme te pythen werld'"
      ]
     },
     "execution_count": 67,
     "metadata": {},
     "output_type": "execute_result"
    }
   ],
   "source": [
    "# without methods\n",
    "s='welcome to python world'\n",
    "s1=''\n",
    "for i in s:\n",
    "    if i=='o':\n",
    "        s1+='e'\n",
    "    else:\n",
    "        s1+=i\n",
    "s1"
   ]
  },
  {
   "cell_type": "code",
   "execution_count": 8,
   "id": "c34364be",
   "metadata": {},
   "outputs": [
    {
     "data": {
      "text/plain": [
       "'welceme te pythen werld'"
      ]
     },
     "execution_count": 8,
     "metadata": {},
     "output_type": "execute_result"
    }
   ],
   "source": [
    "s='welcome to python world'\n",
    "s.replace('o','e')              # all 'o' shuld replaced with 'e'"
   ]
  },
  {
   "cell_type": "code",
   "execution_count": 10,
   "id": "8cea806b",
   "metadata": {},
   "outputs": [
    {
     "data": {
      "text/plain": [
       "'welceme to python world'"
      ]
     },
     "execution_count": 10,
     "metadata": {},
     "output_type": "execute_result"
    }
   ],
   "source": [
    "s='welcome to python world'\n",
    "s.replace('o','e',1)            # first 'o' shuld replaced with 'e'"
   ]
  },
  {
   "cell_type": "code",
   "execution_count": 11,
   "id": "4ef9e358",
   "metadata": {},
   "outputs": [
    {
     "data": {
      "text/plain": [
       "'welceme te python world'"
      ]
     },
     "execution_count": 11,
     "metadata": {},
     "output_type": "execute_result"
    }
   ],
   "source": [
    "s='welcome to python world'\n",
    "s.replace('o','e',2)           # first two 'o's shuld replaced with 'e'"
   ]
  },
  {
   "cell_type": "markdown",
   "id": "171cd495",
   "metadata": {},
   "source": [
    "#### 7.10.count()\n",
    "- Returns the number of times a specified value occurs in a string\n",
    "- syntax\n",
    "    - strobj.count(< sub_str >,< count start from >)"
   ]
  },
  {
   "cell_type": "code",
   "execution_count": 61,
   "id": "efd44a64",
   "metadata": {},
   "outputs": [
    {
     "data": {
      "text/plain": [
       "4"
      ]
     },
     "execution_count": 61,
     "metadata": {},
     "output_type": "execute_result"
    }
   ],
   "source": [
    "# with out method \n",
    "s='welcome to python world'\n",
    "count=0\n",
    "for i in s:\n",
    "    if i=='o':\n",
    "        count+=1\n",
    "count"
   ]
  },
  {
   "cell_type": "code",
   "execution_count": 15,
   "id": "23ad555a",
   "metadata": {},
   "outputs": [
    {
     "data": {
      "text/plain": [
       "4"
      ]
     },
     "execution_count": 15,
     "metadata": {},
     "output_type": "execute_result"
    }
   ],
   "source": [
    "s='welcome to python world'\n",
    "s.count('o')"
   ]
  },
  {
   "cell_type": "code",
   "execution_count": 16,
   "id": "5ddd146a",
   "metadata": {},
   "outputs": [
    {
     "data": {
      "text/plain": [
       "3"
      ]
     },
     "execution_count": 16,
     "metadata": {},
     "output_type": "execute_result"
    }
   ],
   "source": [
    "s='welcome to python world'\n",
    "s.count('o',s.index('o')+1)"
   ]
  },
  {
   "cell_type": "markdown",
   "id": "0338333c",
   "metadata": {},
   "source": [
    "#### 7.11.strip()\n",
    "- Returns a trimmed version of the string \n",
    "- by default it remove bith sides empty space\n",
    "- if we provide any specific character, it trimmed both sides of those charectors. "
   ]
  },
  {
   "cell_type": "code",
   "execution_count": 20,
   "id": "acb18cc8",
   "metadata": {},
   "outputs": [
    {
     "data": {
      "text/plain": [
       "'python'"
      ]
     },
     "execution_count": 20,
     "metadata": {},
     "output_type": "execute_result"
    }
   ],
   "source": [
    "s=\"   python   \"\n",
    "s.strip()"
   ]
  },
  {
   "cell_type": "code",
   "execution_count": 21,
   "id": "d1ce7292",
   "metadata": {},
   "outputs": [
    {
     "data": {
      "text/plain": [
       "'python'"
      ]
     },
     "execution_count": 21,
     "metadata": {},
     "output_type": "execute_result"
    }
   ],
   "source": [
    "s='--------python---------'\n",
    "s.strip('-')"
   ]
  },
  {
   "cell_type": "markdown",
   "id": "e92ee67e",
   "metadata": {},
   "source": [
    "#### 7.12.rstrip()\n",
    "- Returns a right trim version of the string\n",
    "- by default it remove right sides empty space\n",
    "- if we provide any specific character, it trimme right side of those charectors."
   ]
  },
  {
   "cell_type": "code",
   "execution_count": 22,
   "id": "b72c884e",
   "metadata": {},
   "outputs": [
    {
     "data": {
      "text/plain": [
       "'   python'"
      ]
     },
     "execution_count": 22,
     "metadata": {},
     "output_type": "execute_result"
    }
   ],
   "source": [
    "s=\"   python   \"\n",
    "s.rstrip()"
   ]
  },
  {
   "cell_type": "code",
   "execution_count": 23,
   "id": "c88ced76",
   "metadata": {},
   "outputs": [
    {
     "data": {
      "text/plain": [
       "'--------python'"
      ]
     },
     "execution_count": 23,
     "metadata": {},
     "output_type": "execute_result"
    }
   ],
   "source": [
    "s='--------python---------'\n",
    "s.rstrip('-')"
   ]
  },
  {
   "cell_type": "markdown",
   "id": "f0d2d597",
   "metadata": {},
   "source": [
    "#### 7.13.lstrip()\n",
    "- Returns a left trim version of the string\n",
    "- by default it remove left sides empty space\n",
    "- if we provide any specific character, it trimme left side of those charectors."
   ]
  },
  {
   "cell_type": "code",
   "execution_count": 24,
   "id": "5c0c8f4c",
   "metadata": {},
   "outputs": [
    {
     "data": {
      "text/plain": [
       "'python   '"
      ]
     },
     "execution_count": 24,
     "metadata": {},
     "output_type": "execute_result"
    }
   ],
   "source": [
    "s=\"   python   \"\n",
    "s.lstrip()"
   ]
  },
  {
   "cell_type": "code",
   "execution_count": 26,
   "id": "9827be93",
   "metadata": {},
   "outputs": [
    {
     "data": {
      "text/plain": [
       "'python---------'"
      ]
     },
     "execution_count": 26,
     "metadata": {},
     "output_type": "execute_result"
    }
   ],
   "source": [
    "s='--------python---------'\n",
    "s.lstrip('-')"
   ]
  },
  {
   "cell_type": "markdown",
   "id": "557ca542",
   "metadata": {},
   "source": [
    "#### 7.14. endswith()\n",
    "- Returns true if the string ends with the specified value"
   ]
  },
  {
   "cell_type": "code",
   "execution_count": 30,
   "id": "cc18e119",
   "metadata": {},
   "outputs": [
    {
     "data": {
      "text/plain": [
       "True"
      ]
     },
     "execution_count": 30,
     "metadata": {},
     "output_type": "execute_result"
    }
   ],
   "source": [
    "s='welcome to python world'\n",
    "s.endswith('d')"
   ]
  },
  {
   "cell_type": "code",
   "execution_count": 31,
   "id": "555871dc",
   "metadata": {},
   "outputs": [
    {
     "data": {
      "text/plain": [
       "True"
      ]
     },
     "execution_count": 31,
     "metadata": {},
     "output_type": "execute_result"
    }
   ],
   "source": [
    "s.endswith('world')"
   ]
  },
  {
   "cell_type": "code",
   "execution_count": 32,
   "id": "39477e7a",
   "metadata": {},
   "outputs": [
    {
     "data": {
      "text/plain": [
       "False"
      ]
     },
     "execution_count": 32,
     "metadata": {},
     "output_type": "execute_result"
    }
   ],
   "source": [
    "s.endswith('wo')"
   ]
  },
  {
   "cell_type": "markdown",
   "id": "b9842188",
   "metadata": {},
   "source": [
    "#### 7.15. startswith()\n",
    "- Returns true if the string starts with the specified value"
   ]
  },
  {
   "cell_type": "code",
   "execution_count": 33,
   "id": "402b367f",
   "metadata": {},
   "outputs": [
    {
     "data": {
      "text/plain": [
       "True"
      ]
     },
     "execution_count": 33,
     "metadata": {},
     "output_type": "execute_result"
    }
   ],
   "source": [
    "s='welcome to python world'\n",
    "s.startswith('w')"
   ]
  },
  {
   "cell_type": "code",
   "execution_count": 34,
   "id": "3747e2bb",
   "metadata": {},
   "outputs": [
    {
     "data": {
      "text/plain": [
       "False"
      ]
     },
     "execution_count": 34,
     "metadata": {},
     "output_type": "execute_result"
    }
   ],
   "source": [
    "s.startswith('p')"
   ]
  },
  {
   "cell_type": "markdown",
   "id": "09b90088",
   "metadata": {},
   "source": [
    "#### 7.16. split\n",
    "- Splits the string at the specified separator, and returns a list\n",
    "- by defaulte separete with spaces\n",
    "- if we mention any character separate with that character"
   ]
  },
  {
   "cell_type": "code",
   "execution_count": 35,
   "id": "83ec53b9",
   "metadata": {},
   "outputs": [
    {
     "data": {
      "text/plain": [
       "['welcome', 'to', 'python', 'world']"
      ]
     },
     "execution_count": 35,
     "metadata": {},
     "output_type": "execute_result"
    }
   ],
   "source": [
    "s='welcome to python world'\n",
    "s.split()"
   ]
  },
  {
   "cell_type": "code",
   "execution_count": 38,
   "id": "ba8d63dc",
   "metadata": {},
   "outputs": [
    {
     "data": {
      "text/plain": [
       "['welcome', ' to', ' python', ' world']"
      ]
     },
     "execution_count": 38,
     "metadata": {},
     "output_type": "execute_result"
    }
   ],
   "source": [
    "s='welcome, to, python, world'\n",
    "s.split(',')"
   ]
  },
  {
   "cell_type": "markdown",
   "id": "a770d780",
   "metadata": {},
   "source": [
    "#### 7.17. rsplit\n",
    "- Splits the string at the specified separator, and returns a list\n",
    "- by defaulte separete with spaces\n",
    "- if we mention any character separate with that character"
   ]
  },
  {
   "cell_type": "code",
   "execution_count": 13,
   "id": "38655a9b",
   "metadata": {},
   "outputs": [
    {
     "data": {
      "text/plain": [
       "['welcome', 'to', 'python', 'world']"
      ]
     },
     "execution_count": 13,
     "metadata": {},
     "output_type": "execute_result"
    }
   ],
   "source": [
    "s='welcome to python world'\n",
    "s.rsplit()"
   ]
  },
  {
   "cell_type": "markdown",
   "id": "46c67968",
   "metadata": {},
   "source": [
    "#### 7.18. join()\n",
    "- joins the list eliments and return a string"
   ]
  },
  {
   "cell_type": "code",
   "execution_count": 41,
   "id": "3eca2eac",
   "metadata": {},
   "outputs": [
    {
     "data": {
      "text/plain": [
       "'welcome to python world'"
      ]
     },
     "execution_count": 41,
     "metadata": {},
     "output_type": "execute_result"
    }
   ],
   "source": [
    "list1=['welcome', ' to', ' python', ' world']\n",
    "''.join(list1)"
   ]
  },
  {
   "cell_type": "code",
   "execution_count": 59,
   "id": "e086e4f1",
   "metadata": {},
   "outputs": [
    {
     "data": {
      "text/plain": [
       "'haihello howhello arehello you'"
      ]
     },
     "execution_count": 59,
     "metadata": {},
     "output_type": "execute_result"
    }
   ],
   "source": [
    "list2=['hai','how', 'are', 'you']\n",
    "s='hello '\n",
    "s.join(list2)"
   ]
  },
  {
   "cell_type": "markdown",
   "id": "dc2c9bcd",
   "metadata": {},
   "source": [
    "#### 7.19. center()\n",
    "- Returns a centered string\n",
    "- fill remain charectors with flling charectors\n",
    "    - strobj.center(width, fillchar=' ')"
   ]
  },
  {
   "cell_type": "code",
   "execution_count": 10,
   "id": "db4c8b23",
   "metadata": {},
   "outputs": [
    {
     "data": {
      "text/plain": [
       "'============banana============'"
      ]
     },
     "execution_count": 10,
     "metadata": {},
     "output_type": "execute_result"
    }
   ],
   "source": [
    "txt = \"banana\"\n",
    "txt.center(30,'=')"
   ]
  },
  {
   "cell_type": "markdown",
   "id": "47c7ded1",
   "metadata": {},
   "source": [
    "#### 7.20. rjust()\n",
    "- Returns a left justified version of the string\n",
    "- syntax\n",
    "    - strobj.rjust(width, fillchar=' ')"
   ]
  },
  {
   "cell_type": "code",
   "execution_count": 11,
   "id": "d4f4bcd8",
   "metadata": {},
   "outputs": [
    {
     "name": "stdout",
     "output_type": "stream",
     "text": [
      "==============banana\n"
     ]
    }
   ],
   "source": [
    "txt = \"banana\"\n",
    "\n",
    "x = txt.rjust(20,'=')\n",
    "\n",
    "print(x)"
   ]
  },
  {
   "cell_type": "markdown",
   "id": "104db635",
   "metadata": {},
   "source": [
    "#### 7.21. ljust()\n",
    "- Returns a left justified version of the string\n",
    "- syntax\n",
    "    - strobj.ljust(width, fillchar=' ')"
   ]
  },
  {
   "cell_type": "code",
   "execution_count": 12,
   "id": "52410ad7",
   "metadata": {},
   "outputs": [
    {
     "name": "stdout",
     "output_type": "stream",
     "text": [
      "banana==============\n"
     ]
    }
   ],
   "source": [
    "txt = \"banana\"\n",
    "\n",
    "x = txt.ljust(20,'=')\n",
    "\n",
    "print(x)"
   ]
  }
 ],
 "metadata": {
  "kernelspec": {
   "display_name": "Python 3 (ipykernel)",
   "language": "python",
   "name": "python3"
  },
  "language_info": {
   "codemirror_mode": {
    "name": "ipython",
    "version": 3
   },
   "file_extension": ".py",
   "mimetype": "text/x-python",
   "name": "python",
   "nbconvert_exporter": "python",
   "pygments_lexer": "ipython3",
   "version": "3.11.4"
  }
 },
 "nbformat": 4,
 "nbformat_minor": 5
}
