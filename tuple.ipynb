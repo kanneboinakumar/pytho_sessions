{
 "cells": [
  {
   "cell_type": "markdown",
   "id": "e4ebf907",
   "metadata": {},
   "source": [
    "# Tuple\n",
    "- Tuples are used to store multiple items in a single variable.\n",
    "- Tuple items can be of any data type.\n",
    "- A tuple is a collection which is ordered and unchangeable/immutable.\n",
    "- Tuples are written with round brackets -- ().\n",
    "- allow duplicate values.\n",
    "- it is same as list but it is not changable.\n",
    "- allowed to add tuples to tuples"
   ]
  },
  {
   "cell_type": "code",
   "execution_count": 1,
   "id": "0f7d6548",
   "metadata": {},
   "outputs": [
    {
     "name": "stdout",
     "output_type": "stream",
     "text": [
      "(1, 'str', True, [1, 2, 3, 4])\n"
     ]
    }
   ],
   "source": [
    "sample_tuple=(1, 'str',True,[1,2,3,4])\n",
    "print(sample_tuple)"
   ]
  },
  {
   "cell_type": "markdown",
   "id": "b3a550d0",
   "metadata": {},
   "source": [
    "### Note: \n",
    "- When creating a tuple with only one item, remember to include a comma after the item, otherwise it will not be identified as a tuple."
   ]
  },
  {
   "cell_type": "code",
   "execution_count": 22,
   "id": "f7ccd618",
   "metadata": {},
   "outputs": [
    {
     "data": {
      "text/plain": [
       "int"
      ]
     },
     "execution_count": 22,
     "metadata": {},
     "output_type": "execute_result"
    }
   ],
   "source": [
    "a=(1)\n",
    "type(a)\n",
    "                    # a=(1) and a=1 both are same and save as a int"
   ]
  },
  {
   "cell_type": "code",
   "execution_count": 24,
   "id": "7a8e2bdb",
   "metadata": {},
   "outputs": [
    {
     "name": "stdout",
     "output_type": "stream",
     "text": [
      "(1, 2, 3, 4)\n"
     ]
    },
    {
     "data": {
      "text/plain": [
       "tuple"
      ]
     },
     "execution_count": 24,
     "metadata": {},
     "output_type": "execute_result"
    }
   ],
   "source": [
    "b=1,2,3,4\n",
    "print(b)\n",
    "type(b)"
   ]
  },
  {
   "cell_type": "code",
   "execution_count": 25,
   "id": "09fbc749",
   "metadata": {},
   "outputs": [
    {
     "name": "stdout",
     "output_type": "stream",
     "text": [
      "(1,)\n"
     ]
    },
    {
     "data": {
      "text/plain": [
       "tuple"
      ]
     },
     "execution_count": 25,
     "metadata": {},
     "output_type": "execute_result"
    }
   ],
   "source": [
    "c=1,\n",
    "print(c)\n",
    "type(c)"
   ]
  },
  {
   "cell_type": "markdown",
   "id": "2e264a2f",
   "metadata": {},
   "source": [
    "## Access Tuple Items\n",
    "- access items with index"
   ]
  },
  {
   "cell_type": "code",
   "execution_count": 2,
   "id": "9688942f",
   "metadata": {},
   "outputs": [],
   "source": [
    "#            -4   -3    -2     -1    ==> -ve index\n",
    "sample_tuple=(1, 'str',True,[1,2,3,4])\n",
    "#             1    2    3       4    ==> +ve index"
   ]
  },
  {
   "cell_type": "code",
   "execution_count": 3,
   "id": "aa2401be",
   "metadata": {},
   "outputs": [
    {
     "data": {
      "text/plain": [
       "1"
      ]
     },
     "execution_count": 3,
     "metadata": {},
     "output_type": "execute_result"
    }
   ],
   "source": [
    "sample_tuple[0]"
   ]
  },
  {
   "cell_type": "code",
   "execution_count": 4,
   "id": "d2195589",
   "metadata": {},
   "outputs": [
    {
     "data": {
      "text/plain": [
       "[1, 2, 3, 4]"
      ]
     },
     "execution_count": 4,
     "metadata": {},
     "output_type": "execute_result"
    }
   ],
   "source": [
    "sample_tuple[-1]"
   ]
  },
  {
   "cell_type": "markdown",
   "id": "0a0c1c8a",
   "metadata": {},
   "source": [
    "## Ordered\n",
    "-  it means that the items have a defined order, and that order will not change."
   ]
  },
  {
   "cell_type": "markdown",
   "id": "6708caff",
   "metadata": {},
   "source": [
    "## Unchangeable/ immutable\n",
    "\n",
    "- we cannot change, add or remove items after the tuple has been created.\n",
    "- but we can chance to change tuple into list"
   ]
  },
  {
   "cell_type": "code",
   "execution_count": 29,
   "id": "77fbc2c2",
   "metadata": {},
   "outputs": [
    {
     "ename": "AttributeError",
     "evalue": "'tuple' object has no attribute 'remove'",
     "output_type": "error",
     "traceback": [
      "\u001b[1;31m---------------------------------------------------------------------------\u001b[0m",
      "\u001b[1;31mAttributeError\u001b[0m                            Traceback (most recent call last)",
      "Cell \u001b[1;32mIn[29], line 2\u001b[0m\n\u001b[0;32m      1\u001b[0m sample_tuple\u001b[38;5;241m=\u001b[39m(\u001b[38;5;241m1\u001b[39m, \u001b[38;5;124m'\u001b[39m\u001b[38;5;124mstr\u001b[39m\u001b[38;5;124m'\u001b[39m,\u001b[38;5;28;01mTrue\u001b[39;00m,[\u001b[38;5;241m1\u001b[39m,\u001b[38;5;241m2\u001b[39m,\u001b[38;5;241m3\u001b[39m,\u001b[38;5;241m4\u001b[39m])\n\u001b[1;32m----> 2\u001b[0m sample_tuple\u001b[38;5;241m.\u001b[39mremove(\u001b[38;5;241m1\u001b[39m)\n",
      "\u001b[1;31mAttributeError\u001b[0m: 'tuple' object has no attribute 'remove'"
     ]
    }
   ],
   "source": [
    "sample_tuple=(1, 'str',True,[1,2,3,4])\n",
    "sample_tuple.remove(1)"
   ]
  },
  {
   "cell_type": "code",
   "execution_count": 44,
   "id": "60c2a2f9",
   "metadata": {},
   "outputs": [
    {
     "ename": "AttributeError",
     "evalue": "'tuple' object has no attribute 'append'",
     "output_type": "error",
     "traceback": [
      "\u001b[1;31m---------------------------------------------------------------------------\u001b[0m",
      "\u001b[1;31mAttributeError\u001b[0m                            Traceback (most recent call last)",
      "Cell \u001b[1;32mIn[44], line 1\u001b[0m\n\u001b[1;32m----> 1\u001b[0m t1\u001b[38;5;241m.\u001b[39mappend(\u001b[38;5;124m'\u001b[39m\u001b[38;5;124mk\u001b[39m\u001b[38;5;124m'\u001b[39m)\n",
      "\u001b[1;31mAttributeError\u001b[0m: 'tuple' object has no attribute 'append'"
     ]
    }
   ],
   "source": [
    "t1.append('k')"
   ]
  },
  {
   "cell_type": "code",
   "execution_count": 32,
   "id": "fb950dda",
   "metadata": {},
   "outputs": [
    {
     "name": "stdout",
     "output_type": "stream",
     "text": [
      "(1, 2, 3, 4, 5, 6)\n",
      "<class 'tuple'>\n",
      "[1, 2, 3, 4, 5, 6]\n",
      "<class 'list'>\n"
     ]
    }
   ],
   "source": [
    "# converting tuple into list \n",
    "t1=(1,2,3,4,5,6)\n",
    "print(t1)\n",
    "print(type(t1))   # checking type\n",
    "l1=list(t1)\n",
    "print(l1)\n",
    "print(type(l1))    # checking type"
   ]
  },
  {
   "cell_type": "markdown",
   "id": "318daaa0",
   "metadata": {},
   "source": [
    "## Add tuple to a tuple\n",
    "- allowed to add tuples to tuples\n"
   ]
  },
  {
   "cell_type": "code",
   "execution_count": 45,
   "id": "88f5ee06",
   "metadata": {},
   "outputs": [
    {
     "name": "stdout",
     "output_type": "stream",
     "text": [
      "('apple', 'banana', 'cherry', 'orange', 'kkk')\n"
     ]
    }
   ],
   "source": [
    "t1= (\"apple\", \"banana\", \"cherry\")\n",
    "t2 = (\"orange\",'kkk')\n",
    "t3=t1+t2\n",
    "print(t3)"
   ]
  },
  {
   "cell_type": "markdown",
   "id": "db903636",
   "metadata": {},
   "source": [
    "## Slicing\n",
    "- we can specify a range of indexes"
   ]
  },
  {
   "cell_type": "code",
   "execution_count": 6,
   "id": "d80081e3",
   "metadata": {},
   "outputs": [
    {
     "data": {
      "text/plain": [
       "(1, 'str')"
      ]
     },
     "execution_count": 6,
     "metadata": {},
     "output_type": "execute_result"
    }
   ],
   "source": [
    "sample_tuple=(1, 'str',True,[1,2,3,4])\n",
    "sample_tuple[:2]"
   ]
  },
  {
   "cell_type": "code",
   "execution_count": 9,
   "id": "09165828",
   "metadata": {},
   "outputs": [
    {
     "data": {
      "text/plain": [
       "([1, 2, 3, 4], True)"
      ]
     },
     "execution_count": 9,
     "metadata": {},
     "output_type": "execute_result"
    }
   ],
   "source": [
    "sample_tuple[-1:-3:-1]"
   ]
  },
  {
   "cell_type": "markdown",
   "id": "6716c622",
   "metadata": {},
   "source": [
    "## delete items\n",
    "- delete items are not supported in tuple."
   ]
  },
  {
   "cell_type": "code",
   "execution_count": 28,
   "id": "9efea7aa",
   "metadata": {},
   "outputs": [
    {
     "ename": "TypeError",
     "evalue": "'tuple' object doesn't support item deletion",
     "output_type": "error",
     "traceback": [
      "\u001b[1;31m---------------------------------------------------------------------------\u001b[0m",
      "\u001b[1;31mTypeError\u001b[0m                                 Traceback (most recent call last)",
      "Cell \u001b[1;32mIn[28], line 2\u001b[0m\n\u001b[0;32m      1\u001b[0m thistuple \u001b[38;5;241m=\u001b[39m (\u001b[38;5;124m\"\u001b[39m\u001b[38;5;124mapple\u001b[39m\u001b[38;5;124m\"\u001b[39m, \u001b[38;5;124m\"\u001b[39m\u001b[38;5;124mbanana\u001b[39m\u001b[38;5;124m\"\u001b[39m, \u001b[38;5;124m\"\u001b[39m\u001b[38;5;124mcherry\u001b[39m\u001b[38;5;124m\"\u001b[39m)\n\u001b[1;32m----> 2\u001b[0m \u001b[38;5;28;01mdel\u001b[39;00m thistuple[\u001b[38;5;241m0\u001b[39m]\n\u001b[0;32m      3\u001b[0m \u001b[38;5;28mprint\u001b[39m(thistuple)\n",
      "\u001b[1;31mTypeError\u001b[0m: 'tuple' object doesn't support item deletion"
     ]
    }
   ],
   "source": [
    "thistuple = (\"apple\", \"banana\", \"cherry\")\n",
    "del thistuple[0]\n",
    "print(thistuple)"
   ]
  },
  {
   "cell_type": "markdown",
   "id": "a4b40370",
   "metadata": {},
   "source": [
    "## Unpack Tuples\n",
    "\n"
   ]
  },
  {
   "cell_type": "code",
   "execution_count": 47,
   "id": "109a2cc9",
   "metadata": {},
   "outputs": [
    {
     "data": {
      "text/plain": [
       "('apple', 'banana', 'cherry')"
      ]
     },
     "execution_count": 47,
     "metadata": {},
     "output_type": "execute_result"
    }
   ],
   "source": [
    "#  we create a tuple, we normally assign values to it. This is called \"packing\" a tuple\n",
    "fruits = (\"apple\", \"banana\", \"cherry\")\n",
    "fruits"
   ]
  },
  {
   "cell_type": "code",
   "execution_count": 53,
   "id": "a35e5369",
   "metadata": {},
   "outputs": [
    {
     "name": "stdout",
     "output_type": "stream",
     "text": [
      "apple\n",
      "banana\n",
      "cherry\n"
     ]
    }
   ],
   "source": [
    "# we are also allowed to extract the values back into variables. This is called \"unpacking\"\n",
    "fruits = (\"apple\", \"banana\", \"cherry\")\n",
    "\n",
    "(v1,v2,v3) = fruits\n",
    "\n",
    "print(v1)\n",
    "print(v2)\n",
    "print(v3)"
   ]
  },
  {
   "cell_type": "markdown",
   "id": "6e77d2db",
   "metadata": {},
   "source": [
    "#### Note:\n",
    "The number of variables must match the number of values in the tuple, if not, you must use an asterisk (*) to collect the remaining values as a list."
   ]
  },
  {
   "cell_type": "code",
   "execution_count": 54,
   "id": "edb6402e",
   "metadata": {},
   "outputs": [
    {
     "name": "stdout",
     "output_type": "stream",
     "text": [
      "apple\n",
      "banana\n",
      "['cherry', 'mango']\n"
     ]
    }
   ],
   "source": [
    "fruits = (\"apple\", \"banana\", \"cherry\",\"mango\")\n",
    "(v1,v2,*v3) = fruits\n",
    "\n",
    "print(v1)\n",
    "print(v2)\n",
    "print(v3)"
   ]
  },
  {
   "cell_type": "markdown",
   "id": "24f62eb8",
   "metadata": {},
   "source": [
    "## Loop"
   ]
  },
  {
   "cell_type": "code",
   "execution_count": 55,
   "id": "a47e002c",
   "metadata": {},
   "outputs": [
    {
     "name": "stdout",
     "output_type": "stream",
     "text": [
      "apple\n",
      "banana\n",
      "cherry\n",
      "mango\n"
     ]
    }
   ],
   "source": [
    "# for loop\n",
    "fruits = (\"apple\", \"banana\", \"cherry\",\"mango\")\n",
    "for i in fruits:\n",
    "    print(i)"
   ]
  },
  {
   "cell_type": "code",
   "execution_count": 60,
   "id": "46d5dc1d",
   "metadata": {},
   "outputs": [
    {
     "name": "stdout",
     "output_type": "stream",
     "text": [
      "apple\n",
      "banana\n",
      "cherry\n",
      "mango\n"
     ]
    }
   ],
   "source": [
    "# while loop\n",
    "t1=(\"apple\", \"banana\", \"cherry\",\"mango\")\n",
    "i=0\n",
    "while i<len(t1):\n",
    "    print(t1[i])\n",
    "    i+=1"
   ]
  },
  {
   "cell_type": "markdown",
   "id": "4b379766",
   "metadata": {},
   "source": [
    "## Join Tuples"
   ]
  },
  {
   "cell_type": "code",
   "execution_count": 61,
   "id": "9e405e7f",
   "metadata": {},
   "outputs": [
    {
     "name": "stdout",
     "output_type": "stream",
     "text": [
      "('a', 'b', 'c', 1, 2, 3)\n"
     ]
    }
   ],
   "source": [
    "# using (+)\n",
    "tuple1 = (\"a\", \"b\" , \"c\")\n",
    "tuple2 = (1, 2, 3)\n",
    "\n",
    "tuple3 = tuple1 + tuple2\n",
    "print(tuple3)"
   ]
  },
  {
   "cell_type": "code",
   "execution_count": 63,
   "id": "c52d7691",
   "metadata": {},
   "outputs": [
    {
     "data": {
      "text/plain": [
       "('a', 'b', 'c', 'a', 'b', 'c', 'a', 'b', 'c')"
      ]
     },
     "execution_count": 63,
     "metadata": {},
     "output_type": "execute_result"
    }
   ],
   "source": [
    "# using (*)\n",
    "tuple1 = (\"a\", \"b\" , \"c\")*3\n",
    "tuple1"
   ]
  },
  {
   "cell_type": "markdown",
   "id": "7873ad39",
   "metadata": {},
   "source": [
    "## Tuple Methods"
   ]
  },
  {
   "cell_type": "markdown",
   "id": "5e092135",
   "metadata": {},
   "source": [
    "- len() => it will return length of the items\n",
    "- sum() => it will return sum of the items (all eliments must numaric)\n",
    "- count() => Returns the number of times a specified value occurs in a tuple\n",
    "- index() => Searches the tuple for a specified value and returns the position of where it was found"
   ]
  },
  {
   "cell_type": "markdown",
   "id": "61cfdb3b",
   "metadata": {},
   "source": [
    "### len()"
   ]
  },
  {
   "cell_type": "code",
   "execution_count": 4,
   "id": "d74e50c8",
   "metadata": {},
   "outputs": [
    {
     "data": {
      "text/plain": [
       "9"
      ]
     },
     "execution_count": 4,
     "metadata": {},
     "output_type": "execute_result"
    }
   ],
   "source": [
    "t1=('a', 'b', 'c', 'a', 'b', 'c', 'a', 'b', 'c')\n",
    "len(t1)"
   ]
  },
  {
   "cell_type": "markdown",
   "id": "48caafb7",
   "metadata": {},
   "source": [
    "### count()"
   ]
  },
  {
   "cell_type": "code",
   "execution_count": 5,
   "id": "d2d03c69",
   "metadata": {},
   "outputs": [
    {
     "data": {
      "text/plain": [
       "3"
      ]
     },
     "execution_count": 5,
     "metadata": {},
     "output_type": "execute_result"
    }
   ],
   "source": [
    "t1=('a', 'b', 'c', 'a', 'b', 'c', 'a', 'b', 'c')\n",
    "t1.count('a')              #  it will return counts of 'a'"
   ]
  },
  {
   "cell_type": "markdown",
   "id": "ca7f996c",
   "metadata": {},
   "source": [
    "### index()"
   ]
  },
  {
   "cell_type": "code",
   "execution_count": 7,
   "id": "04d00caa",
   "metadata": {},
   "outputs": [
    {
     "data": {
      "text/plain": [
       "1"
      ]
     },
     "execution_count": 7,
     "metadata": {},
     "output_type": "execute_result"
    }
   ],
   "source": [
    "t1=('a', 'b', 'c', 'a', 'b', 'c', 'a', 'b', 'c')\n",
    "t1.index('b')           # return index first occurance 'b'"
   ]
  },
  {
   "cell_type": "markdown",
   "id": "4f85dea3",
   "metadata": {},
   "source": [
    "### sum()"
   ]
  },
  {
   "cell_type": "code",
   "execution_count": 8,
   "id": "1a9e584d",
   "metadata": {},
   "outputs": [
    {
     "data": {
      "text/plain": [
       "15"
      ]
     },
     "execution_count": 8,
     "metadata": {},
     "output_type": "execute_result"
    }
   ],
   "source": [
    "t1=(1,2,3,4,5)\n",
    "sum(t1)"
   ]
  }
 ],
 "metadata": {
  "kernelspec": {
   "display_name": "Python 3 (ipykernel)",
   "language": "python",
   "name": "python3"
  },
  "language_info": {
   "codemirror_mode": {
    "name": "ipython",
    "version": 3
   },
   "file_extension": ".py",
   "mimetype": "text/x-python",
   "name": "python",
   "nbconvert_exporter": "python",
   "pygments_lexer": "ipython3",
   "version": "3.11.4"
  }
 },
 "nbformat": 4,
 "nbformat_minor": 5
}
