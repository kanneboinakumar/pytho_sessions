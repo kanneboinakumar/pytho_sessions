{
 "cells": [
  {
   "cell_type": "markdown",
   "id": "ef404d80",
   "metadata": {},
   "source": [
    "# lambda funtcion"
   ]
  },
  {
   "cell_type": "markdown",
   "id": "2886225e",
   "metadata": {},
   "source": [
    "- A lambda function is a small anonymous function.\n",
    "\n",
    "- A lambda function can take any number of arguments, but can only have one expression."
   ]
  },
  {
   "cell_type": "markdown",
   "id": "a525e9eb",
   "metadata": {},
   "source": [
    "$ syntax $\n",
    "- lambda < arguments > : < expression >"
   ]
  },
  {
   "cell_type": "markdown",
   "id": "2ee79722",
   "metadata": {},
   "source": [
    "$examples$"
   ]
  },
  {
   "cell_type": "code",
   "execution_count": 2,
   "id": "b7df8b2c",
   "metadata": {},
   "outputs": [
    {
     "data": {
      "text/plain": [
       "50"
      ]
     },
     "execution_count": 2,
     "metadata": {},
     "output_type": "execute_result"
    }
   ],
   "source": [
    "summ=lambda a:a+30         # single arguments\n",
    "summ(20)"
   ]
  },
  {
   "cell_type": "code",
   "execution_count": 3,
   "id": "87ba141d",
   "metadata": {},
   "outputs": [
    {
     "data": {
      "text/plain": [
       "40"
      ]
     },
     "execution_count": 3,
     "metadata": {},
     "output_type": "execute_result"
    }
   ],
   "source": [
    "summ=lambda a,b:a+b       # two arguments\n",
    "summ(10,30)"
   ]
  },
  {
   "cell_type": "code",
   "execution_count": 6,
   "id": "e2e2eb38",
   "metadata": {},
   "outputs": [
    {
     "data": {
      "text/plain": [
       "4.33"
      ]
     },
     "execution_count": 6,
     "metadata": {},
     "output_type": "execute_result"
    }
   ],
   "source": [
    "avg=lambda a,b,c:(a+b+c)/3    # three argumens\n",
    "round(avg(3,6,4),2)"
   ]
  },
  {
   "cell_type": "code",
   "execution_count": 7,
   "id": "dc248192",
   "metadata": {},
   "outputs": [
    {
     "data": {
      "text/plain": [
       "290"
      ]
     },
     "execution_count": 7,
     "metadata": {},
     "output_type": "execute_result"
    }
   ],
   "source": [
    "summ=lambda *n:sum(n)      # n arguments\n",
    "summ(10,30,40,60,70,80)"
   ]
  },
  {
   "cell_type": "code",
   "execution_count": 18,
   "id": "757ba040",
   "metadata": {},
   "outputs": [
    {
     "data": {
      "text/plain": [
       "[7]"
      ]
     },
     "execution_count": 18,
     "metadata": {},
     "output_type": "execute_result"
    }
   ],
   "source": [
    "even=[]\n",
    "odd=[]\n",
    "even_odd=lambda a,b:even.append(a) if a%2==0 else odd.append(a)\n",
    "even_odd(7,5)\n",
    "\n",
    "odd"
   ]
  },
  {
   "cell_type": "code",
   "execution_count": 43,
   "id": "c602075d",
   "metadata": {},
   "outputs": [
    {
     "name": "stdout",
     "output_type": "stream",
     "text": [
      "[36, 19, 12, 6, 25]\n"
     ]
    }
   ],
   "source": [
    "#l1=[<if_output> <if_con> else <else_op> <loop>]\n",
    "import random\n",
    "l=[random.randint(1,50) for i in range(5)]\n",
    "print(l)\n"
   ]
  },
  {
   "cell_type": "code",
   "execution_count": 23,
   "id": "84b66b61",
   "metadata": {},
   "outputs": [
    {
     "data": {
      "text/plain": [
       "[38]"
      ]
     },
     "execution_count": 23,
     "metadata": {},
     "output_type": "execute_result"
    }
   ],
   "source": [
    "l2=[]\n",
    "for i in l:\n",
    "    if i%2==0:\n",
    "        if i>20:\n",
    "            l2.append(i)\n",
    "l2"
   ]
  },
  {
   "cell_type": "code",
   "execution_count": 34,
   "id": "9f6ecbcb",
   "metadata": {},
   "outputs": [
    {
     "data": {
      "text/plain": [
       "[4, 8, 4, 2, 28, 1, 12, 3, 6, 2]"
      ]
     },
     "execution_count": 34,
     "metadata": {},
     "output_type": "execute_result"
    }
   ],
   "source": [
    "list_of_lists = [['4', '8'], ['4', '2', '28'], ['1', '12'], ['3', '6', '2']]\n",
    "\n",
    "[int(i) for sublist in list_of_lists for i in sublist]"
   ]
  },
  {
   "cell_type": "code",
   "execution_count": null,
   "id": "7798640b",
   "metadata": {},
   "outputs": [],
   "source": []
  }
 ],
 "metadata": {
  "kernelspec": {
   "display_name": "Python 3 (ipykernel)",
   "language": "python",
   "name": "python3"
  },
  "language_info": {
   "codemirror_mode": {
    "name": "ipython",
    "version": 3
   },
   "file_extension": ".py",
   "mimetype": "text/x-python",
   "name": "python",
   "nbconvert_exporter": "python",
   "pygments_lexer": "ipython3",
   "version": "3.11.4"
  }
 },
 "nbformat": 4,
 "nbformat_minor": 5
}
