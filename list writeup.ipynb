{
 "cells": [
  {
   "cell_type": "markdown",
   "id": "953c4c35",
   "metadata": {},
   "source": [
    "# list\n",
    "- list is built-in data types in Python used to store collections of data.\n",
    "- Lists are used to store multiple items in a single variable.\n",
    "- reprasent with [] and items separated with kama(',')\n",
    "- List items are ordered\n",
    "- List items are changeable\n",
    "- List allow duplicate values\n",
    "- List items are indexed\n"
   ]
  },
  {
   "cell_type": "code",
   "execution_count": 2,
   "id": "44a93d4b",
   "metadata": {},
   "outputs": [
    {
     "data": {
      "text/plain": [
       "[1, 11.5, True, (1+5j), ['a', 'b'], ('a', 'b'), {'a': 1, 'b': 2}]"
      ]
     },
     "execution_count": 2,
     "metadata": {},
     "output_type": "execute_result"
    }
   ],
   "source": [
    "# EX:\n",
    "list1=[1,11.5,True,1+5j,['a','b'],('a','b'),{'a':1,'b':2}]\n",
    "list1"
   ]
  },
  {
   "cell_type": "markdown",
   "id": "aa822805",
   "metadata": {},
   "source": [
    "## indexed"
   ]
  },
  {
   "cell_type": "code",
   "execution_count": 5,
   "id": "f1b9b7ac",
   "metadata": {},
   "outputs": [],
   "source": [
    "#      0   1   2    3          4          +ve index     \n",
    "list1=[1 , 2 , 3 , 'z' , ['a','b','c']]\n",
    "#     -5  -4  -3   -2         -1          -ve index"
   ]
  },
  {
   "cell_type": "markdown",
   "id": "016555e7",
   "metadata": {},
   "source": [
    "## list item access\n",
    "- list item access with using index"
   ]
  },
  {
   "cell_type": "code",
   "execution_count": 6,
   "id": "785de7dd",
   "metadata": {},
   "outputs": [
    {
     "data": {
      "text/plain": [
       "'z'"
      ]
     },
     "execution_count": 6,
     "metadata": {},
     "output_type": "execute_result"
    }
   ],
   "source": [
    "list1=[1 , 2 , 3 , 'z' , ['a','b','c']]\n",
    "list1[3]"
   ]
  },
  {
   "cell_type": "code",
   "execution_count": 7,
   "id": "820354bd",
   "metadata": {},
   "outputs": [
    {
     "data": {
      "text/plain": [
       "'z'"
      ]
     },
     "execution_count": 7,
     "metadata": {},
     "output_type": "execute_result"
    }
   ],
   "source": [
    "list1[-2]"
   ]
  },
  {
   "cell_type": "markdown",
   "id": "fdb0b0f9",
   "metadata": {},
   "source": [
    "## slicing / Range of Indexes\n",
    "- You can specify a range of indexes by specifying where to start and where to end the range."
   ]
  },
  {
   "cell_type": "code",
   "execution_count": 23,
   "id": "3418c452",
   "metadata": {},
   "outputs": [
    {
     "data": {
      "text/plain": [
       "[1, 2, 3, 4, 5, 6, 7, 8, 9, 10]"
      ]
     },
     "execution_count": 23,
     "metadata": {},
     "output_type": "execute_result"
    }
   ],
   "source": [
    "mylist=[i for i in range(1,11)]\n",
    "mylist"
   ]
  },
  {
   "cell_type": "code",
   "execution_count": 24,
   "id": "e928a056",
   "metadata": {},
   "outputs": [
    {
     "data": {
      "text/plain": [
       "[1, 2, 3, 4, 5]"
      ]
     },
     "execution_count": 24,
     "metadata": {},
     "output_type": "execute_result"
    }
   ],
   "source": [
    "mylist[:5]"
   ]
  },
  {
   "cell_type": "code",
   "execution_count": 27,
   "id": "ade3aaad",
   "metadata": {},
   "outputs": [
    {
     "data": {
      "text/plain": [
       "[8, 7, 6, 5, 4, 3, 2, 1]"
      ]
     },
     "execution_count": 27,
     "metadata": {},
     "output_type": "execute_result"
    }
   ],
   "source": [
    "mylist[-3::-1]"
   ]
  },
  {
   "cell_type": "code",
   "execution_count": 28,
   "id": "8b87aea0",
   "metadata": {},
   "outputs": [
    {
     "data": {
      "text/plain": [
       "[3, 5]"
      ]
     },
     "execution_count": 28,
     "metadata": {},
     "output_type": "execute_result"
    }
   ],
   "source": [
    "mylist[2:5:2]"
   ]
  },
  {
   "cell_type": "markdown",
   "id": "35362051",
   "metadata": {},
   "source": [
    "## Ordered\n",
    "- When we say that lists are ordered, it means that the items have a defined order, and that order will not change.\n",
    "- If you add new items to a list, the new items will be placed at the end of the list.\n",
    "- Note: \n",
    "    - There are some list methods that will change the order, but in general: the order of the items will not change."
   ]
  },
  {
   "cell_type": "markdown",
   "id": "c30e0c65",
   "metadata": {},
   "source": [
    "## Changeable\n",
    "- The list is changeable, meaning that we can change, add, and remove items in a list after it has been created."
   ]
  },
  {
   "cell_type": "markdown",
   "id": "58dfbd0f",
   "metadata": {},
   "source": [
    "## Allow Duplicates"
   ]
  },
  {
   "cell_type": "code",
   "execution_count": 2,
   "id": "f1fa80d2",
   "metadata": {},
   "outputs": [
    {
     "data": {
      "text/plain": [
       "[1, 1, 1, 1]"
      ]
     },
     "execution_count": 2,
     "metadata": {},
     "output_type": "execute_result"
    }
   ],
   "source": [
    "# Lists allow duplicate values\n",
    "list2=[1,1,1,1]\n",
    "list2"
   ]
  },
  {
   "cell_type": "code",
   "execution_count": 5,
   "id": "c281efb4",
   "metadata": {},
   "outputs": [],
   "source": [
    "# List items can be of any data type\n",
    "list1 = [\"apple\", \"banana\", \"cherry\"]\n",
    "list2 = [1, 5, 7, 9, 3]\n",
    "list3 = [True, False, False]"
   ]
  },
  {
   "cell_type": "markdown",
   "id": "d7831ba2",
   "metadata": {},
   "source": [
    "## List Length"
   ]
  },
  {
   "cell_type": "code",
   "execution_count": 3,
   "id": "d0fea10a",
   "metadata": {},
   "outputs": [
    {
     "data": {
      "text/plain": [
       "4"
      ]
     },
     "execution_count": 3,
     "metadata": {},
     "output_type": "execute_result"
    }
   ],
   "source": [
    "# we can find the length of list\n",
    "list2=['apple',1,False,2.3]\n",
    "len(list2)"
   ]
  },
  {
   "cell_type": "markdown",
   "id": "b7dcb8fb",
   "metadata": {},
   "source": [
    "## type()"
   ]
  },
  {
   "cell_type": "code",
   "execution_count": 7,
   "id": "4b557e82",
   "metadata": {},
   "outputs": [
    {
     "data": {
      "text/plain": [
       "list"
      ]
     },
     "execution_count": 7,
     "metadata": {},
     "output_type": "execute_result"
    }
   ],
   "source": [
    "# type check\n",
    "type([])"
   ]
  },
  {
   "cell_type": "markdown",
   "id": "ba8dda2c",
   "metadata": {},
   "source": [
    "## type casting\n",
    "- we can convert other data types in to list"
   ]
  },
  {
   "cell_type": "code",
   "execution_count": 13,
   "id": "dd5c0e5e",
   "metadata": {},
   "outputs": [
    {
     "data": {
      "text/plain": [
       "['h', 'a', 'i', ' ', 'h', 'o', 'w', ' ', 'a', 'r', 'e', ' ', 'y', 'o', 'u']"
      ]
     },
     "execution_count": 13,
     "metadata": {},
     "output_type": "execute_result"
    }
   ],
   "source": [
    "# str to list\n",
    "s='hai how are you'\n",
    "list(s)"
   ]
  },
  {
   "cell_type": "code",
   "execution_count": 8,
   "id": "509005d1",
   "metadata": {},
   "outputs": [
    {
     "data": {
      "text/plain": [
       "[1, 2, 2, 3, 3, 5, 7, 9]"
      ]
     },
     "execution_count": 8,
     "metadata": {},
     "output_type": "execute_result"
    }
   ],
   "source": [
    "# tuple to list\n",
    "tuple1=(1,2,2,3,3,5,7,9)\n",
    "list(tuple1)"
   ]
  },
  {
   "cell_type": "code",
   "execution_count": 17,
   "id": "13d1d40a",
   "metadata": {},
   "outputs": [
    {
     "data": {
      "text/plain": [
       "[1, 2, 3, 5]"
      ]
     },
     "execution_count": 17,
     "metadata": {},
     "output_type": "execute_result"
    }
   ],
   "source": [
    "# set to list\n",
    "set1={1,2,3,5,5}\n",
    "list(set1)"
   ]
  },
  {
   "cell_type": "code",
   "execution_count": 20,
   "id": "7fb89554",
   "metadata": {},
   "outputs": [
    {
     "data": {
      "text/plain": [
       "['k', 'l']"
      ]
     },
     "execution_count": 20,
     "metadata": {},
     "output_type": "execute_result"
    }
   ],
   "source": [
    "# dict to list(it return dict keys)\n",
    "num={'k':5,'l':5}\n",
    "list(num)"
   ]
  },
  {
   "cell_type": "markdown",
   "id": "fb059ee2",
   "metadata": {},
   "source": [
    "## Check if Item Exists\n",
    "- using in operator"
   ]
  },
  {
   "cell_type": "code",
   "execution_count": 34,
   "id": "b482b8be",
   "metadata": {},
   "outputs": [
    {
     "name": "stdout",
     "output_type": "stream",
     "text": [
      "yes\n"
     ]
    }
   ],
   "source": [
    "mylist=[\"apple\", \"banana\", \"cherry\"]\n",
    "if 'banana' in mylist:\n",
    "    print('yes')"
   ]
  },
  {
   "cell_type": "markdown",
   "id": "8dc8c0f7",
   "metadata": {},
   "source": [
    "## Change List Items\n",
    "- To change the value of a specific item, refer to the index number"
   ]
  },
  {
   "cell_type": "code",
   "execution_count": 36,
   "id": "1723f39e",
   "metadata": {},
   "outputs": [
    {
     "data": {
      "text/plain": [
       "['A', 'b', 'c', 'd']"
      ]
     },
     "execution_count": 36,
     "metadata": {},
     "output_type": "execute_result"
    }
   ],
   "source": [
    "mylist=['a','b','c','d']\n",
    "mylist[0]='A'\n",
    "mylist"
   ]
  },
  {
   "cell_type": "markdown",
   "id": "9c5b7731",
   "metadata": {},
   "source": [
    "## Change a Range of Item Values"
   ]
  },
  {
   "cell_type": "code",
   "execution_count": 41,
   "id": "3a3bac81",
   "metadata": {},
   "outputs": [
    {
     "data": {
      "text/plain": [
       "['A', 'B', 'c', 'd']"
      ]
     },
     "execution_count": 41,
     "metadata": {},
     "output_type": "execute_result"
    }
   ],
   "source": [
    "# range is equal to changing values\n",
    "mylist=['a','b','c','d']\n",
    "mylist[0:2]='A','B'\n",
    "mylist"
   ]
  },
  {
   "cell_type": "markdown",
   "id": "380bb7c5",
   "metadata": {},
   "source": [
    "### Note: \n",
    "- The length of the list will change when the number of items inserted does not match the number of items replaced."
   ]
  },
  {
   "cell_type": "code",
   "execution_count": 42,
   "id": "6f2b72bd",
   "metadata": {},
   "outputs": [
    {
     "data": {
      "text/plain": [
       "['a', 'A', 'B', 'C', 'd']"
      ]
     },
     "execution_count": 42,
     "metadata": {},
     "output_type": "execute_result"
    }
   ],
   "source": [
    "# range is  not equal to changing values\n",
    "mylist=['a','b','c','d']\n",
    "mylist[1:3]='A','B','C'\n",
    "mylist"
   ]
  },
  {
   "cell_type": "code",
   "execution_count": 45,
   "id": "28eb11f3",
   "metadata": {},
   "outputs": [
    {
     "data": {
      "text/plain": [
       "['a', ('A', 'B'), 'c', 'd']"
      ]
     },
     "execution_count": 45,
     "metadata": {},
     "output_type": "execute_result"
    }
   ],
   "source": [
    "mylist=['a','b','c','d']\n",
    "mylist[1]='A','B'    # it will take as a tuple\n",
    "mylist"
   ]
  },
  {
   "cell_type": "markdown",
   "id": "ec2ce432",
   "metadata": {},
   "source": [
    "## Loop Lists\n",
    "- You can loop through the list items by using a for loop"
   ]
  },
  {
   "cell_type": "code",
   "execution_count": 46,
   "id": "4b70271c",
   "metadata": {},
   "outputs": [
    {
     "name": "stdout",
     "output_type": "stream",
     "text": [
      "a\n",
      "b\n",
      "c\n",
      "d\n"
     ]
    }
   ],
   "source": [
    "mylist=['a','b','c','d']\n",
    "for x in mylist:\n",
    "    print(x)"
   ]
  },
  {
   "cell_type": "code",
   "execution_count": 48,
   "id": "5d943233",
   "metadata": {},
   "outputs": [
    {
     "name": "stdout",
     "output_type": "stream",
     "text": [
      "a\n",
      "b\n",
      "c\n",
      "d\n"
     ]
    }
   ],
   "source": [
    "# Use the range() and len() functions to create a suitable iterable.\n",
    "mylist=['a','b','c','d']\n",
    "for x in range(len(mylist)):\n",
    "    print(mylist[x])"
   ]
  },
  {
   "cell_type": "code",
   "execution_count": 49,
   "id": "782282a8",
   "metadata": {},
   "outputs": [
    {
     "name": "stdout",
     "output_type": "stream",
     "text": [
      "a\n",
      "b\n",
      "c\n",
      "d\n"
     ]
    }
   ],
   "source": [
    "# using a while loop to go through all the index numbers\n",
    "mylist=['a','b','c','d']\n",
    "i=0\n",
    "while i<len(mylist):\n",
    "    print(mylist[i])\n",
    "    i+=1"
   ]
  },
  {
   "cell_type": "markdown",
   "id": "6dd41d2b",
   "metadata": {},
   "source": [
    "## Join Lists"
   ]
  },
  {
   "cell_type": "code",
   "execution_count": 50,
   "id": "d1c0d345",
   "metadata": {},
   "outputs": [
    {
     "name": "stdout",
     "output_type": "stream",
     "text": [
      "['a', 'b', 'c', 'd', 1, 2, 3]\n"
     ]
    }
   ],
   "source": [
    "# add two list\n",
    "l1=['a','b','c','d']\n",
    "l2=[1,2,3]\n",
    "l3=l1+l2\n",
    "print(l3)"
   ]
  },
  {
   "cell_type": "code",
   "execution_count": 51,
   "id": "cc57bbcf",
   "metadata": {},
   "outputs": [
    {
     "name": "stdout",
     "output_type": "stream",
     "text": [
      "[1, 2, 3, 'a', 'b', 'c', 'd']\n"
     ]
    }
   ],
   "source": [
    "# add two list\n",
    "l1=['a','b','c','d']\n",
    "l2=[1,2,3]\n",
    "l3=l2+l1\n",
    "print(l3)"
   ]
  },
  {
   "cell_type": "code",
   "execution_count": 52,
   "id": "36340b9f",
   "metadata": {},
   "outputs": [
    {
     "name": "stdout",
     "output_type": "stream",
     "text": [
      "['a', 'b', 'c', 'd', 'a', 'b', 'c', 'd']\n"
     ]
    }
   ],
   "source": [
    "# multiplication\n",
    "l1=['a','b','c','d']\n",
    "print(l1*2)"
   ]
  },
  {
   "cell_type": "markdown",
   "id": "e7872c31",
   "metadata": {},
   "source": [
    "## List Methods\n",
    "1. append() =>Adds an element at the end of the list\n",
    "2. clear() =>Removes all the elements from the list\n",
    "3. copy() =>Returns a copy of the list\n",
    "4. count() =>Returns the number of elements with the specified value\n",
    "5. extend() =>\tAdd the elements of a list (or any iterable), to the end of the current list\n",
    "6. index() =>Returns the index of the first element with the specified value\n",
    "7. insert() =>Adds an element at the specified position\n",
    "8. pop()\t   =>Removes the element at the specified position\n",
    "9. remove()\t=>Removes the item with the specified value\n",
    "10. reverse()\t=>Reverses the order of the list\n",
    "11. sort()\t=>Sorts the list"
   ]
  },
  {
   "cell_type": "markdown",
   "id": "06e8066e",
   "metadata": {},
   "source": [
    "## adding items to list\n",
    "- append()\n",
    "- extend()\n",
    "- insert()"
   ]
  },
  {
   "cell_type": "markdown",
   "id": "b3103a42",
   "metadata": {},
   "source": [
    "### 1. append()"
   ]
  },
  {
   "cell_type": "code",
   "execution_count": 55,
   "id": "9ce13faf",
   "metadata": {},
   "outputs": [
    {
     "data": {
      "text/plain": [
       "['apple', 'banana', 'cherry', 'orange']"
      ]
     },
     "execution_count": 55,
     "metadata": {},
     "output_type": "execute_result"
    }
   ],
   "source": [
    "# append\n",
    "x = ['apple', 'banana', 'cherry']\n",
    "x.append(\"orange\")\n",
    "x"
   ]
  },
  {
   "cell_type": "markdown",
   "id": "61b582fb",
   "metadata": {},
   "source": [
    "### 2.extend()"
   ]
  },
  {
   "cell_type": "code",
   "execution_count": 94,
   "id": "048a2780",
   "metadata": {},
   "outputs": [
    {
     "name": "stdout",
     "output_type": "stream",
     "text": [
      "['a', 'b', 'b', 'c', 'a', 'a', 'p', 'y', 't', 'h', 'o', 'n']\n"
     ]
    }
   ],
   "source": [
    "# extend values must itarable or list\n",
    "# extend list with list\n",
    "x = ['a','b','b','c','a','a']\n",
    "y=['p','y','t','h','o','n']\n",
    "x.extend(y)\n",
    "print(x)"
   ]
  },
  {
   "cell_type": "code",
   "execution_count": 62,
   "id": "130b2bcb",
   "metadata": {},
   "outputs": [
    {
     "name": "stdout",
     "output_type": "stream",
     "text": [
      "['a', 'b', 'b', 'c', 'a', 'a', 'p', 'y', 't', 'h', 'o', 'n']\n"
     ]
    }
   ],
   "source": [
    "# extend list with string\n",
    "x = ['a','b','b','c','a','a']\n",
    "y='python'\n",
    "x.extend(y)\n",
    "print(x)"
   ]
  },
  {
   "cell_type": "code",
   "execution_count": 85,
   "id": "081809b9",
   "metadata": {},
   "outputs": [
    {
     "data": {
      "text/plain": [
       "[1, 2, 3, 4]"
      ]
     },
     "execution_count": 85,
     "metadata": {},
     "output_type": "execute_result"
    }
   ],
   "source": [
    "## double braces will take otherwise it will give error\n",
    "y=list((1,2,3,4))\n",
    "y"
   ]
  },
  {
   "cell_type": "code",
   "execution_count": 93,
   "id": "602ae6c3",
   "metadata": {},
   "outputs": [
    {
     "data": {
      "text/plain": [
       "['a', 'b', 'b', 'c', 'a', 'a', 1, 2, 3, 4]"
      ]
     },
     "execution_count": 93,
     "metadata": {},
     "output_type": "execute_result"
    }
   ],
   "source": [
    "# extend list with tuple\n",
    "x = ['a','b','b','c','a','a']\n",
    "y=list((1,2,3,4))\n",
    "x.extend(y)\n",
    "x"
   ]
  },
  {
   "cell_type": "markdown",
   "id": "163b2387",
   "metadata": {},
   "source": [
    "### 3.insert()"
   ]
  },
  {
   "cell_type": "code",
   "execution_count": 97,
   "id": "a624fdc4",
   "metadata": {},
   "outputs": [
    {
     "data": {
      "text/plain": [
       "['python', 'hello', 'world', True]"
      ]
     },
     "execution_count": 97,
     "metadata": {},
     "output_type": "execute_result"
    }
   ],
   "source": [
    "y=['python','world',True]\n",
    "y.insert(1,'hello')\n",
    "y"
   ]
  },
  {
   "cell_type": "markdown",
   "id": "cdcfab59",
   "metadata": {},
   "source": [
    "## Removing items into list\n",
    "- clear()\n",
    "- pop()\n",
    "- remove()"
   ]
  },
  {
   "cell_type": "markdown",
   "id": "78633ed9",
   "metadata": {},
   "source": [
    "### 1. clear()"
   ]
  },
  {
   "cell_type": "code",
   "execution_count": 98,
   "id": "7ef8109f",
   "metadata": {},
   "outputs": [
    {
     "data": {
      "text/plain": [
       "[]"
      ]
     },
     "execution_count": 98,
     "metadata": {},
     "output_type": "execute_result"
    }
   ],
   "source": [
    "# it will clear entair list\n",
    "x = ['apple', 'banana', 'cherry']\n",
    "x.clear()\n",
    "x"
   ]
  },
  {
   "cell_type": "markdown",
   "id": "a1cfb6ac",
   "metadata": {},
   "source": [
    "### 2.pop()"
   ]
  },
  {
   "cell_type": "code",
   "execution_count": 110,
   "id": "3fd925e0",
   "metadata": {},
   "outputs": [
    {
     "data": {
      "text/plain": [
       "'cherry'"
      ]
     },
     "execution_count": 110,
     "metadata": {},
     "output_type": "execute_result"
    }
   ],
   "source": [
    "# it will remove last item and return pop item\n",
    "x = ['apple', 'banana', 'cherry']\n",
    "x.pop()"
   ]
  },
  {
   "cell_type": "code",
   "execution_count": 113,
   "id": "d73a1ab6",
   "metadata": {},
   "outputs": [
    {
     "data": {
      "text/plain": [
       "'apple'"
      ]
     },
     "execution_count": 113,
     "metadata": {},
     "output_type": "execute_result"
    }
   ],
   "source": [
    "# pop with item index\n",
    "x = ['apple', 'banana', 'cherry']\n",
    "y=x.pop(0)\n",
    "y"
   ]
  },
  {
   "cell_type": "markdown",
   "id": "068f0c3c",
   "metadata": {},
   "source": [
    "### 3.remove()"
   ]
  },
  {
   "cell_type": "code",
   "execution_count": 116,
   "id": "8949875a",
   "metadata": {},
   "outputs": [
    {
     "data": {
      "text/plain": [
       "['banana', 'cherry', 'apple']"
      ]
     },
     "execution_count": 116,
     "metadata": {},
     "output_type": "execute_result"
    }
   ],
   "source": [
    "# it remove first occurace of item\n",
    "x = ['apple', 'banana', 'cherry','apple']\n",
    "x.remove('apple')\n",
    "x"
   ]
  },
  {
   "cell_type": "markdown",
   "id": "9858ba71",
   "metadata": {},
   "source": [
    "## sorting items / reversing\n",
    "- sort()\n",
    "- sorted  (keyword)\n",
    "- reverse()\n",
    "- reversed (keyword)"
   ]
  },
  {
   "cell_type": "markdown",
   "id": "fa82aee9",
   "metadata": {},
   "source": [
    "### 1.sort()\n",
    "- sort by asc or dsc"
   ]
  },
  {
   "cell_type": "code",
   "execution_count": 120,
   "id": "a7e01f35",
   "metadata": {},
   "outputs": [
    {
     "data": {
      "text/plain": [
       "[1, 1, 2, 4, 6, 7, 8, 9]"
      ]
     },
     "execution_count": 120,
     "metadata": {},
     "output_type": "execute_result"
    }
   ],
   "source": [
    "# sort by acs\n",
    "x=[1,9,2,4,6,1,8,7]\n",
    "x.sort()\n",
    "x"
   ]
  },
  {
   "cell_type": "code",
   "execution_count": 122,
   "id": "449b6d37",
   "metadata": {},
   "outputs": [
    {
     "data": {
      "text/plain": [
       "[9, 8, 7, 6, 4, 2, 1, 1]"
      ]
     },
     "execution_count": 122,
     "metadata": {},
     "output_type": "execute_result"
    }
   ],
   "source": [
    "# sort by desc\n",
    "x=[1,9,2,4,6,1,8,7]\n",
    "x.sort(reverse=True)\n",
    "x"
   ]
  },
  {
   "cell_type": "markdown",
   "id": "49d69a3c",
   "metadata": {},
   "source": [
    "### 2. reversed"
   ]
  },
  {
   "cell_type": "code",
   "execution_count": 136,
   "id": "1665ece6",
   "metadata": {},
   "outputs": [
    {
     "data": {
      "text/plain": [
       "<list_reverseiterator at 0x2b2b0b99420>"
      ]
     },
     "execution_count": 136,
     "metadata": {},
     "output_type": "execute_result"
    }
   ],
   "source": [
    "# rversed funtcion is also give same but we need a iterator for printing\n",
    "x=[1,9,2,4,6,1,8,7]\n",
    "reversed(x) "
   ]
  },
  {
   "cell_type": "code",
   "execution_count": 138,
   "id": "3593f71a",
   "metadata": {},
   "outputs": [
    {
     "name": "stdout",
     "output_type": "stream",
     "text": [
      "7\n",
      "8\n",
      "1\n",
      "6\n",
      "4\n",
      "2\n",
      "9\n",
      "1\n"
     ]
    }
   ],
   "source": [
    "x=[1,9,2,4,6,1,8,7]\n",
    "y=reversed(x)\n",
    "for i in y:\n",
    "    print(i)"
   ]
  },
  {
   "cell_type": "markdown",
   "id": "e895fb6b",
   "metadata": {},
   "source": [
    "### 3.reverse()"
   ]
  },
  {
   "cell_type": "code",
   "execution_count": null,
   "id": "c3685110",
   "metadata": {},
   "outputs": [],
   "source": [
    "x=[1,9,2,4,6,1,8,7]\n",
    "x.reverse()"
   ]
  },
  {
   "cell_type": "markdown",
   "id": "2d8daed4",
   "metadata": {},
   "source": [
    "### 4.reversed (keyword)"
   ]
  },
  {
   "cell_type": "code",
   "execution_count": 133,
   "id": "226042be",
   "metadata": {},
   "outputs": [
    {
     "name": "stdout",
     "output_type": "stream",
     "text": [
      "7\n",
      "8\n",
      "1\n",
      "6\n",
      "4\n",
      "2\n",
      "9\n",
      "1\n"
     ]
    }
   ],
   "source": [
    "#reversed is a key word\n",
    "x=[1,9,2,4,6,1,8,7]\n",
    "y=reversed(x)\n",
    "for i in y:\n",
    "    print(i)"
   ]
  },
  {
   "cell_type": "markdown",
   "id": "d413a0e3",
   "metadata": {},
   "source": [
    "## other methods"
   ]
  },
  {
   "cell_type": "markdown",
   "id": "8ba29ad9",
   "metadata": {},
   "source": [
    "### 1.copy()"
   ]
  },
  {
   "cell_type": "code",
   "execution_count": 103,
   "id": "9fa2a1f8",
   "metadata": {},
   "outputs": [
    {
     "data": {
      "text/plain": [
       "['apple', 'banana', 'cherry']"
      ]
     },
     "execution_count": 103,
     "metadata": {},
     "output_type": "execute_result"
    }
   ],
   "source": [
    "# copy list into other variable\n",
    "x = ['apple', 'banana', 'cherry']\n",
    "y=x.copy()\n",
    "y"
   ]
  },
  {
   "cell_type": "markdown",
   "id": "c6f6ff38",
   "metadata": {},
   "source": [
    "### 2.index()"
   ]
  },
  {
   "cell_type": "code",
   "execution_count": 95,
   "id": "70f0ef9f",
   "metadata": {},
   "outputs": [
    {
     "data": {
      "text/plain": [
       "3"
      ]
     },
     "execution_count": 95,
     "metadata": {},
     "output_type": "execute_result"
    }
   ],
   "source": [
    "y=['p','y','t','h','o','n']\n",
    "y.index('h')"
   ]
  },
  {
   "cell_type": "markdown",
   "id": "8f035163",
   "metadata": {},
   "source": [
    "### 3.count()"
   ]
  },
  {
   "cell_type": "code",
   "execution_count": null,
   "id": "de534053",
   "metadata": {},
   "outputs": [],
   "source": [
    "# count of item\n",
    "x = ['a','b','b','c','a','a']\n",
    "x.count('a')"
   ]
  }
 ],
 "metadata": {
  "kernelspec": {
   "display_name": "Python 3 (ipykernel)",
   "language": "python",
   "name": "python3"
  },
  "language_info": {
   "codemirror_mode": {
    "name": "ipython",
    "version": 3
   },
   "file_extension": ".py",
   "mimetype": "text/x-python",
   "name": "python",
   "nbconvert_exporter": "python",
   "pygments_lexer": "ipython3",
   "version": "3.11.4"
  }
 },
 "nbformat": 4,
 "nbformat_minor": 5
}
